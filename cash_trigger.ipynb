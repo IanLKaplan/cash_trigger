{
 "cells": [
  {
   "cell_type": "markdown",
   "metadata": {
    "collapsed": true,
    "pycharm": {
     "name": "#%% md\n"
    }
   },
   "source": [
    "<h2>\n",
    "Stock Market Cash Trigger</br>\n",
    "by Ian Kaplan</br>\n",
    "</h2>\n",
    "\n",
    "<p>\n",
    "This notebook explores a stock market timing strategy that is described in David\n",
    "Alan Carter's book <i>Stock Market Cash Trigger</i> (available as an Amazon Kindle book).\n",
    "</p>\n",
    "<p>\n",
    "This Python notebook is available in the GitHub repository\n",
    "<a href=\"https://github.com/IanLKaplan/cash_trigger\">\n",
    "https://github.com/IanLKaplan/cash_trigger</a>\n",
    "</p>\n",
    "<p>\n",
    "In the <i>Stock Market Cash Trigger</i> the 200-day moving average for the S&P 500\n",
    "(the ETF SPY) close prices are compared with the current close SPY price. When the current\n",
    "close price for SPY trends below the 200-day moving average, this is a\n",
    "signal to move out of equity instruments into bond instruments. An ETF rotation strategy\n",
    "is used to select a bond asset\n",
    "(see the notebook <a href=\"https://github.com/IanLKaplan/twelve_percent/blob/master/twelve_percent.ipynb\">\n",
    "ETF Rotation</a>).\n",
    "</p>\n",
    "<p>\n",
    "The book <i>Stock Market Cash Trigger</i> presents evidence that this strategy can perform better\n",
    "than a \"buy and hold\" strategy.  Figure 32, from the book, is shown below. This table shows\n",
    "a \"buy and hold\" investment in Microsof stock (MSFT) vs. an invesment that uses the <i>Cash Trigger</i>\n",
    "strategy.\n",
    "</p>"
   ]
  },
  {
   "cell_type": "code",
   "execution_count": null,
   "outputs": [],
   "source": [
    "from enum import Enum\n",
    "\n",
    "from IPython.core.display import Image\n",
    "from dateutil.relativedelta import relativedelta\n",
    "from numpy import sqrt\n",
    "\n",
    "Image(filename='images/msft_strategy.png')"
   ],
   "metadata": {
    "collapsed": false,
    "pycharm": {
     "name": "#%%\n"
    }
   }
  },
  {
   "cell_type": "markdown",
   "source": [
    "<p>\n",
    "Note that the <i>Cash Trigger</i> results shown in the book's Figure 32 are for an investment\n",
    "in 2007 which avoids the 2009-2009 market downturn. As we shall see, investments that start in this\n",
    "period do much better than investments that start in later years. This is due to continuous\n",
    "compounding of the strategy profits from the 2008-2009 downturn.\n",
    "</p>\n",
    "<p>\n",
    "This notebook attempts to reproduce the results from <i>Stock Market Cash Trigger</i> and\n",
    "explore these results in various time frames.  Extensions of the <i>Cash Trigger</i> strategy\n",
    "are also explored.\n",
    "</p>\n",
    "<p>\n",
    "Technical analysis is used by some stock market traders to attempt to determine\n",
    "which stocks should be traded and when they should be bought and sold.  Technical\n",
    "analysis has been compared to voodoo magic because many of the trading signals used\n",
    "in technical analysis do not have strong quantitative descriptions or emperical evidence for\n",
    "their strength in discovering profitable trades. Often trading based on technical analysis\n",
    "can only be done by a person because the\n",
    "rules are not clearly defined enough to implement in computer software.\n",
    "</p>\n",
    "<p>\n",
    "The moving average signals discussed in <i>Stock Market Cash Trigger</i> could be\n",
    "considered a technical analysis strategy. Unlike some technical analysis signals, the\n",
    "<i>Cash Trigger</i> signal has a relatively clear definition. The author, David Alan Carter,\n",
    "discusses why be believes the 200-day moving average is a good trading signal.  He\n",
    "also compares the 200-day moving average to some other moving average trading\n",
    "signals. Rather than reproduce this discussion\n",
    "here, I recommend that you read the <i>Stock Market Cash Trigger</i>.\n",
    "</p>\n",
    "<p>\n",
    "In the book, the definition of \"trending below\" the SPY 200-day moving average is when,\n",
    "on the last day of a month, the close price of SPY is below the 200-day average.\n",
    "</p>\n",
    "<p>\n",
    "The description in the <i>Stock Market Cash Trigger</i> is designed to be used\n",
    "by human traders. A human trader looking at stock market plots can often see\n",
    "when the 200-day moving average for SPY is trending below the current the\n",
    "SPY close price. A computer algorithm requires a more exact definition.\n",
    "</p>\n",
    "<p>\n",
    "In this notebook the 200-day moving average and the current price are rounded\n",
    "to zero decimal places and compared. If the current value SPY close price is less\n",
    "than or equal to the 200-day average this is a signal to move out of equities\n",
    "and into bonds.\n",
    "</p>\n",
    "<p>\n",
    "If the cash trigger points to moving out of equity instruments, a\n",
    "bond ETF is selected. In the <i>Stock Market Cash Trigger</i> this one\n",
    "of three bond ETFS: JNK, TLT or MUB.  In this notebook the SHY ETF is added\n",
    "to the bond mix.  SHY is close to being a proxy for cash and should have\n",
    "a positive return when the other bond funds are negative.\n",
    "</p>\n",
    "<p>\n",
    "The bond ETF that is chosen for the next month is the bond ETF with the\n",
    "highest three month return (this is the ETF rotation technique that is\n",
    "explored at length in the notebook\n",
    "<a href=\"https://github.com/IanLKaplan/twelve_percent/blob/master/twelve_percent.ipynb\"><i>The 12% Solution</i></a>)\n",
    "</p>\n",
    "<p>\n",
    "The ETF instruments in the book <i>Stock Market Cash Trigger</i> are:\n",
    "</p>\n",
    "<h3>\n",
    "S&P 500 ETF\n",
    "</h3>\n",
    "<ul>\n",
    "<li>\n",
    "<p>\n",
    "SPY: SPDR S&P 500 ETF Trust\n",
    "</p>\n",
    "<p>\n",
    "SPY tracks a market-cap-weighted index of US large- and midcap stocks selected by\n",
    "the S&P Committee (e.g., S&P 500).\n",
    "</p>\n",
    "<p>\n",
    "Inception date: Jan 22, 1993\n",
    "</p>\n",
    "</li>\n",
    "</ul>\n",
    "\n",
    "<h3>\n",
    "Bond ETFs\n",
    "</h3>\n",
    "<ul>\n",
    "<li>\n",
    "<p>\n",
    "TLT: iShares 20+ Year Treasury Bond ETF\n",
    "</p>\n",
    "<p>\n",
    "TLT tracks a market-weighted index of debt issued by the US Treasury\n",
    "with remaining maturities of 20 years or more.\n",
    "</p>\n",
    "<p>\n",
    "Inception date: 7/22/2002\n",
    "</p>\n",
    "</li>\n",
    "<li>\n",
    "<p>\n",
    "JNK: SPDR Bloomberg High Yield Bond ETF\n",
    "</p>\n",
    "<p>\n",
    "JNK tracks a market-weighted index of highly liquid, high-yield, US\n",
    "dollar-denominated corporate bonds.\n",
    "</p>\n",
    "<p>\n",
    "Inception date: 11/28/2007\n",
    "</p>\n",
    "</li>\n",
    "<li>\n",
    "<p>\n",
    "MUB: iShares National Muni Bond ETF\n",
    "</p>\n",
    "<p>\n",
    "MUB tracks a market-weighted index of investment-grade debt issued by state\n",
    "and local governments and agencies. Interest is exempt from US income tax\n",
    "and from AMT.\n",
    "</p>\n",
    "<p>\n",
    "Inception date: 09/09/2007\n",
    "</p>\n",
    "</li>\n",
    "</ul>\n",
    "<h3>\n",
    "Cash Proxy\n",
    "</h3>\n",
    "<ul>\n",
    "<li>\n",
    "<p>\n",
    "SHY: iShares 10-20 Year Treasury Bond ETF\n",
    "</p>\n",
    "<p>\n",
    "SHY tracks a market weighted index of debt issued by the US Treasury\n",
    "with 1-3 years remaining to maturity. Treasury STRIPS are excluded.\n",
    "</p>\n",
    "<p>\n",
    "Inception date: 07/22/2002\n",
    "</p>\n",
    "</li>\n",
    "</ul>\n",
    "<h3>\n",
    "Time Period\n",
    "</h3>\n",
    "<p>\n",
    "A start date of March 3, 2008 is used to allow a sufficient lookback period\n",
    "for the JNK ETF.\n",
    "</p>\n",
    "<p>\n",
    "Many examples in the book <i>Stock Market Cash Trigger</i> run from\n",
    "2007 through 2016. As noted above, the ETF rotation for bonds needs to start in\n",
    "2008 so that there is sufficient history.\n",
    "</p>\n",
    "<h3>\n",
    "Close Prices vs Adjusted Close Prices\n",
    "</h3>\n",
    "<p>\n",
    "The SPY time series uses SPY close prices, rather than adjusted close prices\n",
    "that factor in dividend payments. Although SPY does pay a small dividend\n",
    "(about 1.3%), this can be ignored.\n",
    "</p>"
   ],
   "metadata": {
    "collapsed": false,
    "pycharm": {
     "name": "#%% md\n"
    }
   }
  },
  {
   "cell_type": "code",
   "execution_count": null,
   "outputs": [],
   "source": [
    "from datetime import datetime, timedelta\n",
    "from tabulate import tabulate\n",
    "from typing import List, Tuple\n",
    "from pandas_datareader import data\n",
    "import matplotlib.pyplot as plt\n",
    "import pandas as pd\n",
    "from pandas.core.indexes.datetimes import DatetimeIndex\n",
    "import numpy as np\n",
    "from pathlib import Path\n",
    "import tempfile\n",
    "\n",
    "# QuantStrats was written by Ran Aroussi. See https://aroussi.com/\n",
    "# See https://pypi.org/project/QuantStats/\n",
    "# # https://github.com/ranaroussi/quantstats\n",
    "# pip install QuantStats\n",
    "import quantstats as qs\n",
    "\n",
    "plt.style.use('seaborn-whitegrid')\n",
    "pd.options.mode.chained_assignment = 'raise'\n",
    "\n",
    "\n",
    "def get_market_data(file_name: str,\n",
    "                    data_col: str,\n",
    "                    symbols: List,\n",
    "                    data_source: str,\n",
    "                    start_date: datetime,\n",
    "                    end_date: datetime) -> pd.DataFrame:\n",
    "    \"\"\"\n",
    "      file_name: the file name in the temp directory that will be used to store the data\n",
    "      data_col: the type of data - 'Adj Close', 'Close', 'High', 'Low', 'Open', Volume'\n",
    "      symbols: a list of symbols to fetch data for\n",
    "      data_source: yahoo, etc...\n",
    "      start_date: the start date for the time series\n",
    "      end_date: the end data for the time series\n",
    "      Returns: a Pandas DataFrame containing the data.\n",
    "\n",
    "      If a file of market data does not already exist in the temporary directory, fetch it from the\n",
    "      data_source.\n",
    "    \"\"\"\n",
    "    temp_root: str = tempfile.gettempdir() + '/'\n",
    "    file_path: str = temp_root + file_name\n",
    "    temp_file_path = Path(file_path)\n",
    "    file_size = 0\n",
    "    if temp_file_path.exists():\n",
    "        file_size = temp_file_path.stat().st_size\n",
    "\n",
    "    if file_size > 0:\n",
    "        close_data = pd.read_csv(file_path, index_col='Date')\n",
    "    else:\n",
    "        if type(symbols) == str:\n",
    "            t = list()\n",
    "            t.append(symbols)\n",
    "            symbols = t\n",
    "        panel_data: pd.DataFrame = data.DataReader(symbols, data_source, start_date, end_date)\n",
    "        close_data: pd.DataFrame = panel_data[data_col]\n",
    "        close_data.to_csv(file_path)\n",
    "    assert len(close_data) > 0, f'Error reading data for {symbols}'\n",
    "    return close_data\n",
    "\n",
    "\n",
    "trading_days = 252\n",
    "trading_quarter = trading_days // 4\n",
    "\n",
    "window_size = 200\n",
    "\n",
    "data_source = 'yahoo'\n",
    "\n",
    "start_date_str = '2008-03-03'\n",
    "start_date: datetime = datetime.fromisoformat(start_date_str)\n",
    "# The \"current date\"\n",
    "end_date: datetime = datetime.today() - timedelta(days=1)\n",
    "\n",
    "\n",
    "def convert_date(some_date):\n",
    "    if type(some_date) == str:\n",
    "        some_date = datetime.fromisoformat(some_date)\n",
    "    elif type(some_date) == np.datetime64:\n",
    "        ts = (some_date - np.datetime64('1970-01-01T00:00')) / np.timedelta64(1, 's')\n",
    "        some_date = datetime.utcfromtimestamp(ts)\n",
    "    return some_date\n",
    "\n",
    "\n",
    "def findDateIndex(date_index: DatetimeIndex, search_date: datetime) -> int:\n",
    "    '''\n",
    "    In a DatetimeIndex, find the index of the date that is nearest to search_date.\n",
    "    This date will either be equal to search_date or the next date that is less than\n",
    "    search_date\n",
    "    '''\n",
    "    index: int = -1\n",
    "    i = 0\n",
    "    search_date = convert_date(search_date)\n",
    "    date_t = datetime.today()\n",
    "    for i in range(0, len(date_index)):\n",
    "        date_t = convert_date(date_index[i])\n",
    "        if date_t >= search_date:\n",
    "            break\n",
    "    if date_t > search_date:\n",
    "        index = i - 1\n",
    "    else:\n",
    "        index = i\n",
    "    return index\n",
    "\n",
    "\n",
    "class RiskState(Enum):\n",
    "    RISK_OFF = 0\n",
    "    RISK_ON = 1\n",
    "\n",
    "\n",
    "class SpyData:\n",
    "    spy_close_file = 'spy_close'\n",
    "    spy_etf = \"SPY\"\n",
    "    spy_close: pd.DataFrame\n",
    "    date_index: DatetimeIndex\n",
    "\n",
    "    def __init__(self, start_date: datetime, end_date: datetime) -> None:\n",
    "        \"\"\"\n",
    "        start_date: the start of the period for the SPY data.  One year\n",
    "        before this date will be fetched to allow for a moving average\n",
    "        from start_date\n",
    "        end_date: the end of the period for the SPY data.\n",
    "        \"\"\"\n",
    "        spy_start: datetime = start_date - timedelta(days=365)\n",
    "        self.spy_close = get_market_data(file_name=self.spy_close_file,\n",
    "                                         data_col='Close',\n",
    "                                         symbols=self.spy_etf,\n",
    "                                         data_source=data_source,\n",
    "                                         start_date=spy_start,\n",
    "                                         end_date=end_date)\n",
    "        self.date_index = self.spy_close.index\n",
    "\n",
    "\n",
    "    def close_data(self, start_date: datetime, end_date: datetime) -> pd.DataFrame:\n",
    "        \"\"\"\n",
    "        Return a section of SPY close prices from start_date to end_date\n",
    "        \"\"\"\n",
    "        start_ix = findDateIndex(date_index=self.date_index, search_date=start_date)\n",
    "        end_ix = findDateIndex(date_index=self.date_index, search_date=end_date)\n",
    "        spy_close_df = pd.DataFrame()\n",
    "        assert start_ix >= 0 and end_ix >= 0\n",
    "        spy_close_df = self.spy_close[:][start_ix:end_ix+1].copy()\n",
    "        return spy_close_df\n",
    "\n",
    "    def avg(self, day: datetime, window: int = window_size) -> float:\n",
    "        \"\"\"\n",
    "        :param day: the end date for the window\n",
    "        :param window: the size of the window extending back from day\n",
    "        :return: the average for the SPY close prices in the window\n",
    "        \"\"\"\n",
    "        _average: float = -1.0\n",
    "        end_ix = findDateIndex(date_index=self.date_index, search_date=day)\n",
    "        start_ix = end_ix - (window -1)\n",
    "        assert start_ix >= 0 and end_ix >= 0\n",
    "        _average = self.spy_close.values[start_ix:end_ix+1].mean()\n",
    "        return _average\n",
    "\n",
    "\n",
    "    def moving_avg(self, start_date: datetime, end_date: datetime, window: int = window_size) -> pd.DataFrame:\n",
    "        \"\"\"\n",
    "        Compute a moving average series\n",
    "        :param start_date: the start date for the moving average series\n",
    "        :param end_date: the end date for the moving average series\n",
    "        :param window: the window size that extends, initially, back from start_date\n",
    "        :return: a moving average series as a DataFrame. The date index will be the same\n",
    "                 as the SPY time DataFrame between start_date and end_date\n",
    "        \"\"\"\n",
    "        start_ix = findDateIndex(date_index=self.date_index, search_date=start_date)\n",
    "        end_ix = findDateIndex(date_index=self.date_index, search_date=end_date)\n",
    "        assert start_ix >= 0 and end_ix >= 0\n",
    "        num_vals = (end_ix - start_ix) + 1\n",
    "        moving_avg_a = np.zeros(num_vals)\n",
    "        avg_index = self.date_index[start_ix:end_ix + 1]\n",
    "        for i in range(0, num_vals):\n",
    "            date_i = avg_index[i]\n",
    "            mv_avg_i = self.avg(date_i)\n",
    "            moving_avg_a[i] = mv_avg_i\n",
    "        avg_df = pd.DataFrame(moving_avg_a)\n",
    "        avg_df.index = avg_index\n",
    "        avg_df.columns = [f'{self.spy_etf} {window_size}-day avg']\n",
    "        return avg_df\n",
    "\n",
    "\n",
    "    def risk_state(self, day: datetime) -> RiskState:\n",
    "        spy_avg = self.avg(day)\n",
    "        day_ix = findDateIndex(date_index=self.date_index, search_date=day)\n",
    "        spy_val = float(self.spy_close.values[day_ix:day_ix+1])\n",
    "        # only use full dollar price changes\n",
    "        spy_avg = round(spy_avg, 0)\n",
    "        spy_val = round(spy_val, 0)\n",
    "        state: RiskState = RiskState.RISK_ON if spy_val > spy_avg else RiskState.RISK_OFF\n",
    "        return state\n",
    "\n",
    "\n",
    "spy_data = SpyData(start_date, end_date)\n",
    "\n",
    "spy_close = spy_data.close_data(start_date, end_date)\n",
    "spy_moving_avg = spy_data.moving_avg(start_date, end_date)\n",
    "plot_df = pd.concat([spy_close, spy_moving_avg], axis=1)"
   ],
   "metadata": {
    "collapsed": false,
    "pycharm": {
     "name": "#%%\n"
    }
   }
  },
  {
   "cell_type": "markdown",
   "source": [
    "<h3>\n",
    "200-day SPY moving average\n",
    "</h3>\n",
    "<p>\n",
    "The plot below shows the 200-day SPY moving average, plotted with the SPY close\n",
    "prices.\n",
    "</p>\n",
    "<p>\n",
    "The strategy moves out of equities into bonds when the SPY close price is below\n",
    "the 200-day moving average.  Looking at this plot you can see that it looks like the\n",
    "market downturns are all below the 200-day moving average.\n",
    "</p>\n",
    "<p>\n",
    "Except for the market downturns that have sufficient duration for the strategy to catch them,\n",
    "the SPY close price is above the 200-day moving average.\n",
    "</p>"
   ],
   "metadata": {
    "collapsed": false,
    "pycharm": {
     "name": "#%% md\n"
    }
   }
  },
  {
   "cell_type": "code",
   "execution_count": null,
   "outputs": [],
   "source": [
    "plot_df.plot(grid=True, title=f'SPY and 200-day average: {start_date.strftime(\"%m/%d/%Y\")} - {end_date.strftime(\"%m/%d/%Y\")}', figsize=(10,6))"
   ],
   "metadata": {
    "collapsed": false,
    "pycharm": {
     "name": "#%%\n"
    }
   }
  },
  {
   "cell_type": "markdown",
   "source": [
    "<h2>\n",
    "Cash Trigger Strategy\n",
    "</h2>\n",
    "<p>\n",
    "The <a href=\"https://www.trendlineprofits.com/\">trendlineprofits.com</a> website\n",
    "is available to purchasers of the <i>Stock Market Cash Trigger</i> book.  The\n",
    "website has a concise description of the cash trigger strategy that is quoted\n",
    "below.\n",
    "</p>\n",
    "<blockquote>\n",
    "<p>\n",
    "Once a month, preferably on the last trading day of the month, the strategy\n",
    "first determines whether the broader U.S. stock market is in a risk-on or risk-off\n",
    "regime using the 200-day simple moving average of SPY. This is our Regime-O-Meter.\n",
    "If the price line for SPY is trending above its 200-day simple moving average,\n",
    "it's risk-on -- and off to the races. Translation: You buy and hold the risk\n",
    "asset(s) of your choice.\n",
    "</p>\n",
    "<p>\n",
    "On the other hand, if the price line of SPY is trending below the 200-day MA,\n",
    "the broader market is in a risk-off environment. In that case, we buy and hold\n",
    "one of four flight-to-safety bond funds as determined by a relative strength\n",
    "test using a 3-month lookback.\n",
    "</p>\n",
    "<p>\n",
    "Rinse and repeat the next month.\n",
    "</p>\n",
    "<p>\n",
    "So, at any given time our Cash Trigger portfolio holds either the risk assets\n",
    "of your choice, or a single flight-to-safety bond fund.\n",
    "</p>\n",
    "</blockquote>\n",
    "\n",
    "<h3>\n",
    "First day vs. last day of the month\n",
    "</h3>\n",
    "<p>\n",
    "Software from <a href=\"https://github.com/IanLKaplan/twelve_percent/blob/master/twelve_percent.ipynb\"><i>The 12% Solution</i></a>\n",
    "is reused in this notebook. <i>The 12% Solution</i> strategy trades at the start of\n",
    "every month, instead of the last trading day of the month.\n",
    "</p>\n",
    "<p>\n",
    "In the Q&A section of <i>Stock Market Cash Trigger</i> the author writes that there\n",
    "is, at most, a small advantage in trading at the end of the month.\n",
    "</p>\n",
    "<p>\n",
    "In keeping with <i>The 12% Solution</i> strategy trading in the backtests in this notebook\n",
    "is at the start of the month.\n",
    "</p>"
   ],
   "metadata": {
    "collapsed": false,
    "pycharm": {
     "name": "#%% md\n"
    }
   }
  },
  {
   "cell_type": "code",
   "execution_count": null,
   "outputs": [],
   "source": [
    "def chooseAssetName(start: int, end: int, asset_set: pd.DataFrame) -> str:\n",
    "    '''\n",
    "    Choose an ETF asset in a particular range of close price values.\n",
    "    The function returns the name of the asset with the highest returning\n",
    "    asset in the period.\n",
    "    '''\n",
    "    asset_columns = asset_set.columns\n",
    "    asset_name = asset_columns[0]\n",
    "    if len(asset_columns) > 1:\n",
    "        ret_list = []\n",
    "        start_date = asset_set.index[start]\n",
    "        end_date = asset_set.index[end]\n",
    "        for asset in asset_set.columns:\n",
    "            ts = asset_set[asset][start:end+1]\n",
    "            start_val = ts[0]\n",
    "            end_val = ts[-1]\n",
    "            r = (end_val/start_val) - 1\n",
    "            ret_list.append(r)\n",
    "        ret_df = pd.DataFrame(ret_list).transpose()\n",
    "        ret_df.columns = asset_set.columns\n",
    "        ret_df = round(ret_df, 3)\n",
    "        column = ret_df.idxmax(axis=1)[0]\n",
    "        asset_name = column\n",
    "    return asset_name\n",
    "\n",
    "\n",
    "def find_month_periods(start_date: datetime, end_date:datetime, data: pd.DataFrame) -> pd.DataFrame:\n",
    "    start_date = convert_date(start_date)\n",
    "    end_date = convert_date(end_date)\n",
    "    date_index = data.index\n",
    "    start_ix = findDateIndex(date_index, start_date)\n",
    "    end_ix = findDateIndex(date_index, end_date)\n",
    "    start_l = list()\n",
    "    end_l = list()\n",
    "    cur_month = start_date.month\n",
    "    start_l.append(start_ix)\n",
    "    i = 0\n",
    "    for i in range(start_ix, end_ix+1):\n",
    "        date_i = convert_date(date_index[i])\n",
    "        if date_i.month != cur_month:\n",
    "            end_l.append(i-1)\n",
    "            start_l.append(i)\n",
    "            cur_month = date_i.month\n",
    "    end_l.append(i)\n",
    "    # if there is not a full month period, remove the last period\n",
    "    if end_l[-1] - start_l[-1] < 18:\n",
    "        end_l.pop()\n",
    "        start_l.pop()\n",
    "    start_df = pd.DataFrame(start_l)\n",
    "    end_df = pd.DataFrame(end_l)\n",
    "    start_date_df = pd.DataFrame(date_index[start_l])\n",
    "    end_date_df = pd.DataFrame(date_index[end_l])\n",
    "    periods_df = pd.concat([start_df, start_date_df, end_df, end_date_df], axis=1)\n",
    "    periods_df.columns = ['start_ix', 'start_date', 'end_ix', 'end_date']\n",
    "    return periods_df\n",
    "\n",
    "\n",
    "def find_year_periods(data: pd.DataFrame) -> pd.DataFrame:\n",
    "    date_index = data.index\n",
    "    start_l = list()\n",
    "    end_l = list()\n",
    "    year_l = list()\n",
    "    start_l.append(0)\n",
    "    current_year = convert_date(date_index[0]).year\n",
    "    year_l.append(current_year)\n",
    "    for i in range(1, len(date_index)):\n",
    "        date_i = convert_date(date_index[i])\n",
    "        year_i = date_i.year\n",
    "        if (year_i > current_year):\n",
    "            end_l.append(i-1)\n",
    "            start_l.append(i)\n",
    "            year_l.append(year_i)\n",
    "            current_year = year_i\n",
    "    end_l.append(i)\n",
    "    periods_df = pd.DataFrame(list(zip(start_l, end_l, year_l)), columns=['start_ix', 'end_ix', 'year'])\n",
    "    return periods_df\n",
    "\n",
    "\n",
    "def simple_return(time_series: np.array, period: int = 1) -> List :\n",
    "    return list(((time_series[i]/time_series[i-period]) - 1.0 for i in range(period, len(time_series), period)))\n",
    "\n",
    "\n",
    "def return_df(time_series_df: pd.DataFrame) -> pd.DataFrame:\n",
    "    r_df: pd.DataFrame = pd.DataFrame()\n",
    "    time_series_a: np.array = time_series_df.values\n",
    "    return_l = simple_return(time_series_a, 1)\n",
    "    r_df = pd.DataFrame(return_l)\n",
    "    date_index = time_series_df.index\n",
    "    r_df.index = date_index[1:len(date_index)]\n",
    "    r_df.columns = time_series_df.columns\n",
    "    return r_df\n",
    "\n",
    "\n",
    "def apply_return(start_val: float, return_df: pd.DataFrame) -> np.array:\n",
    "    port_a: np.array = np.zeros( return_df.shape[0] + 1)\n",
    "    port_a[0] = start_val\n",
    "    return_a = return_df.values\n",
    "    for i in range(1, len(port_a)):\n",
    "        port_a[i] = port_a[i-1] + port_a[i-1] * return_a[i-1]\n",
    "    return port_a\n",
    "\n",
    "\n",
    "def portfolio_return(holdings: float,\n",
    "                     risk_asset: pd.DataFrame,\n",
    "                     bond_asset: pd.DataFrame,\n",
    "                     spy_data: SpyData,\n",
    "                     start_date: datetime,\n",
    "                     end_date: datetime) -> Tuple[pd.DataFrame, pd.DataFrame]:\n",
    "    portfolio_a = np.zeros(0)\n",
    "    portfolio_val = holdings\n",
    "    name_l: List = []\n",
    "    date_l: List = []\n",
    "    month_periods = find_month_periods(start_date, end_date, risk_asset)\n",
    "    for index, period in month_periods.iterrows():\n",
    "        start_ix = period['start_ix']\n",
    "        end_ix = period['end_ix']\n",
    "        period_start_date: datetime = convert_date(period['start_date'])\n",
    "        r_df = pd.DataFrame()\n",
    "        asset_name = ''\n",
    "        if spy_data.risk_state(period_start_date) == RiskState.RISK_ON:\n",
    "            asset_name: str = chooseAssetName(start_ix, end_ix, risk_asset)\n",
    "            risk_close_prices = pd.DataFrame(risk_asset[asset_name][start_ix:end_ix+1])\n",
    "            r_df = return_df(risk_close_prices)\n",
    "        else: # RISK_OFF - bonds\n",
    "            asset_name: str = chooseAssetName(start_ix, end_ix, bond_asset)\n",
    "            bond_close_prices = pd.DataFrame(bond_asset[asset_name][start_ix:end_ix+1])\n",
    "            r_df = return_df(bond_close_prices)\n",
    "        name_l.append(asset_name)\n",
    "        date_l.append(period['start_date'])\n",
    "        port_month_a = apply_return(portfolio_val, r_df)\n",
    "        portfolio_val = port_month_a[-1]\n",
    "        portfolio_a = np.append(portfolio_a, port_month_a)\n",
    "    portfolio_df = pd.DataFrame(portfolio_a)\n",
    "    portfolio_df.columns = ['portfolio']\n",
    "    num_rows = month_periods.shape[0]\n",
    "    first_row = month_periods[:][0:1]\n",
    "    last_row = month_periods[:][num_rows - 1:num_rows]\n",
    "    start_ix = first_row['start_ix'].values[0]\n",
    "    end_ix = last_row['end_ix'].values[0]\n",
    "    date_index = risk_asset.index\n",
    "    portfolio_index = date_index[start_ix:end_ix + 1]\n",
    "    portfolio_df.index = portfolio_index\n",
    "    assets_df = pd.DataFrame(name_l)\n",
    "    assets_df.columns = ['asset']\n",
    "    assets_df.index = date_l\n",
    "    return portfolio_df, assets_df"
   ],
   "metadata": {
    "collapsed": false,
    "pycharm": {
     "name": "#%%\n"
    }
   }
  },
  {
   "cell_type": "markdown",
   "source": [
    "<h3>\n",
    "Calculating Portfolio Values\n",
    "</h3>\n",
    "<p>\n",
    "The portfolio values in <i>The 12% Solution</i> notebook are significantly different\n",
    "from the values shown on the <i>trendlineprofits.com</i> website.  In backtesting <i>The\n",
    "12% Solution</i> strategy and the <i>Cash Trigger</i> strategy, the author, David Allen\n",
    "Carter, uses software on ETFReplay.com to calculate portfolio values. There may be an\n",
    "error in the way ETFReplay.com calculates portfolio values.\n",
    "</p>\n",
    "<p>\n",
    "The portfolio values in this notebook for the <i>Cash Trigger</i> also differ\n",
    "somewhat from those on the website, although the difference is not as dramatic as it\n",
    "is for <i>The 12% Solution</i>.\n",
    "</p>\n",
    "<p>\n",
    "This section discusses how portfolio values are calculated in this notebook. This\n",
    "explains some, but not all, of the differences between the portfolio values in this\n",
    "notebook and those reported on <i>Trendlineprofits.com</i>.\n",
    "</p>\n",
    "<p>\n",
    "In the <i>Stock Market Cash Trigger</i> strategy in June of 2009 the portfolio might be\n",
    "invested in a risk asset SPY. In July the portfolio might be invested in a bond\n",
    "asset TLT.\n",
    "</p>\n",
    "<p>\n",
    "On the first trading day of June, the current portfolio balance is used to purchase SPY.\n",
    "SPY is held until the end of June, when it is sold.  In July the portfolio balance is used\n",
    "to purchase TLT on the first trading day. TLT is held through the end of July.\n",
    "</p>\n",
    "<p>\n",
    "This mirrors how someone would actually trade the <i>Stock Market Cash Trigger</i> strategy.\n",
    "This differs from holding a single asset, like SPY, over the entire period.\n",
    "</p>\n",
    "<p>\n",
    "To see why this is the case, lets pretend that all months consist of for trading days.  For this\n",
    "example the months will be named a and b.\n",
    "</p>\n",
    "\n",
    "\\$ a_1 \\space a_2 \\space a_3 \\space a_4 \\space b_1 \\space b_2 \\space b_3 \\space b_4 $\n",
    "\n",
    "<p>\n",
    "If we have a single asset that is held over the two month period, the first seven returns\n",
    "would be\n",
    "</p>\n",
    "\n",
    "\\$ r_i = \\frac{p_i}{p_{i-1}} - 1 $\n",
    "\n",
    "\\$ r_1 = \\frac{a_2}{a_1} - 1 $\n",
    "\n",
    "\\$ r_2 = \\frac{a_3}{a_2} - 1 $\n",
    "\n",
    "\\$ r_3 = \\frac{a_4}{a_3} - 1 $\n",
    "\n",
    "\\$ r_4 = \\frac{b_1}{a_4} - 1 $\n",
    "\n",
    "\\$ ... $\n",
    "\n",
    "\\$ r_7 = \\frac{b_4}{b_3} - 1 $\n",
    "\n",
    "<p>\n",
    "Note that the return r<sub>4</sub> is calculated across a month boundary.\n",
    "</p>\n",
    "\n",
    "\\$ R = [ r_1, ... r_7  ] $\n",
    "\n",
    "\\$ V = [ h, 0, 0, 0, 0, 0, 0, 0 ] $\n",
    "\n",
    "<p>\n",
    "Where <i>h</i> is the portfolio start value and V is the array that will hold the portfolio\n",
    "values.\n",
    "</p>\n",
    "\n",
    "\\$ for \\space i = 1 \\space to \\space N: \\space V[i] = V[i-1] + V[i-1] \\times R[i-1] $\n",
    "\n",
    "<p>\n",
    "If an asset is purchased at the start of the first month and sold at the end, and another\n",
    "asset is purchased at the start of the second month and sold at the end, the returns\n",
    "do not cross the month boundary.\n",
    "</p>\n",
    "\n",
    "\\$ r_{1a} = \\frac{a_2}{a_1} - 1 $\n",
    "\n",
    "\\$ r_{2a} = \\frac{a_3}{a_2} - 1 $\n",
    "\n",
    "\\$ r_{3a} = \\frac{a_4}{a_3} - 1 $\n",
    "\n",
    "\\$ R_1 = [r_{1a}, r_{2a}, r_{3a} ] $\n",
    "\n",
    "\\$ r_{1b} = \\frac{b_2}{b_1} - 1 $\n",
    "\n",
    "\\$ r_{2b} = \\frac{b_3}{b_2} - 1 $\n",
    "\n",
    "\\$ r_{3b} = \\frac{b_4}{b_3} - 1 $\n",
    "\n",
    "\\$ R_2 = [r_{1b}, r_{2b}, r_{3b} ] $\n",
    "\n",
    "<p>\n",
    "The returns are used to calculate the portfolio values\n",
    "</p>\n",
    "\n",
    "\\$ V_1 = [v_0, v_1, v_2, v_3 ] $\n",
    "\n",
    "<p>\n",
    "Here v<sub>0</sub> is the initial value invested in the portfolio.\n",
    "</p>\n",
    "\n",
    "\\$ V_2 = [v_3, v_4, v_5, v_6 ] $\n",
    "\n",
    "<p>\n",
    "Here v<sub>3</sub> is the portfolio value after the returns from R sub 1 were applied\n",
    "to the portfolio.  The returns in R sub two are applied to this value to create\n",
    "another section of portfolio values.  The portfolio time series would be\n",
    "</p>\n",
    "\n",
    "\\$ V_{total} = [ v_0, v_1, v_2, v_3, v_3, v_4, v_5, v_6 ]  $\n",
    "\n",
    "<p>\n",
    "What is important to note here is that there was no return calculated over the end of\n",
    "one month and the start of another month as there would be for a single asset because\n",
    "the asset changed from one month to the other.\n",
    "</p>\n",
    "<p>\n",
    "If this algorithm is used to calcalculate a portfolio value for a single asset, SPY for\n",
    "example, the portfolio value will be lower than it would be if SPY were held over\n",
    "the same time period. This is shown in the plot below.\n",
    "</p>"
   ],
   "metadata": {
    "collapsed": false,
    "pycharm": {
     "name": "#%% md\n"
    }
   }
  },
  {
   "cell_type": "code",
   "execution_count": null,
   "outputs": [],
   "source": [
    "def adjust_time_series(ts_one_df: pd.DataFrame, ts_two_df: pd.DataFrame) -> Tuple[pd.DataFrame, pd.DataFrame]:\n",
    "    \"\"\"\n",
    "    Adjust two DataFrame time series with overlapping date indices so that they\n",
    "    are the same length with the same date indices.\n",
    "    \"\"\"\n",
    "    ts_one_index = pd.to_datetime(ts_one_df.index)\n",
    "    ts_two_index = pd.to_datetime(ts_two_df.index)\n",
    "        # filter the close prices\n",
    "    matching_dates = ts_one_index.isin( ts_two_index )\n",
    "    ts_one_adj = ts_one_df[matching_dates]\n",
    "    # filter the rf_prices\n",
    "    ts_one_index = pd.to_datetime(ts_one_adj.index)\n",
    "    matching_dates = ts_two_index.isin(ts_one_index)\n",
    "    ts_two_adj = ts_two_df[matching_dates]\n",
    "    return ts_one_adj, ts_two_adj\n",
    "\n",
    "\n",
    "def build_plot_data(holdings: float, portfolio_df: pd.DataFrame, spy_df: pd.DataFrame) -> pd.DataFrame:\n",
    "    port_start_date = portfolio_df.index[0]\n",
    "    port_start_date = convert_date(port_start_date)\n",
    "    port_end_date = portfolio_df.index[-1]\n",
    "    port_end_date = convert_date(port_end_date)\n",
    "    spy_index = spy_df.index\n",
    "    spy_start_ix = findDateIndex(spy_index, port_start_date)\n",
    "    spy_end_ix = findDateIndex(spy_index, port_end_date)\n",
    "    spy_df = pd.DataFrame(spy_df[:][spy_start_ix:spy_end_ix+1])\n",
    "    spy_return = return_df(spy_df)\n",
    "    spy_return_a = apply_return(start_val=holdings, return_df=spy_return)\n",
    "    spy_port = pd.DataFrame(spy_return_a)\n",
    "    spy_port.columns = ['SPY']\n",
    "    spy_port.index = pd.to_datetime(spy_df.index)\n",
    "    plot_df = portfolio_df.copy()\n",
    "    plot_df['SPY'] = spy_port\n",
    "    return plot_df\n",
    "\n",
    "\n",
    "spy_start_val = float(spy_close[:].values[0])\n",
    "spy_only_portfolio, unused = portfolio_return(holdings=spy_start_val,\n",
    "                                         risk_asset=spy_close,\n",
    "                                         bond_asset=spy_close,\n",
    "                                         spy_data=spy_data,\n",
    "                                         start_date=start_date,\n",
    "                                         end_date=end_date)\n",
    "\n",
    "plot_df = build_plot_data(holdings=spy_start_val, portfolio_df=spy_only_portfolio, spy_df=spy_close)\n",
    "plot_df.plot(grid=True, title='SPY as the only portfolio asset and SPY', figsize=(10,6))\n",
    "\n",
    "\n",
    "def collapse_asset_df(asset_df: pd.DataFrame) -> pd.DataFrame:\n",
    "    row = asset_df[0:1]\n",
    "    cur_asset = row['asset'][0]\n",
    "    collapse_df = pd.DataFrame(row)\n",
    "    for index in range(1, asset_df.shape[0]):\n",
    "        row = asset_df[:][index:index+1]\n",
    "        row_name = row['asset'][0]\n",
    "        if row_name != cur_asset:\n",
    "            collapse_df = pd.concat([collapse_df, row])\n",
    "            cur_asset = row_name\n",
    "    if collapse_df.tail(1).index[0] != asset_df.tail(1).index[0]:\n",
    "        collapse_df = pd.concat([collapse_df, asset_df.tail(1)])\n",
    "    return collapse_df\n",
    "\n",
    "\n",
    "holdings = 100000\n",
    "cash_trigger_bonds = ['JNK', 'TLT', 'MUB']\n",
    "cash_trigger_bond_file = \"cash_trigger_bond_adjclose\"\n",
    "cash_trigger_bond_adjclose = get_market_data(file_name=cash_trigger_bond_file,\n",
    "                                             data_col='Adj Close',\n",
    "                                             symbols=cash_trigger_bonds,\n",
    "                                             data_source=data_source,\n",
    "                                             start_date=start_date,\n",
    "                                             end_date=end_date)\n",
    "\n",
    "shy_file = \"shy_adjclose\"\n",
    "shy_ticker = 'SHY'\n",
    "shy_sym = [shy_ticker]\n",
    "shy_adjclose = get_market_data(file_name=shy_file,\n",
    "                               data_col='Adj Close',\n",
    "                               symbols=shy_sym,\n",
    "                               data_source=data_source,\n",
    "                               start_date=start_date,\n",
    "                               end_date=end_date)\n",
    "\n",
    "\n",
    "# Add SHY to the bond set\n",
    "cash_trigger_bond_adjclose[shy_ticker] = shy_adjclose\n",
    "\n",
    "spy_portfolio_df, assets_df = portfolio_return(holdings=holdings,\n",
    "                                               risk_asset=spy_close,\n",
    "                                               bond_asset=cash_trigger_bond_adjclose,\n",
    "                                               spy_data=spy_data,\n",
    "                                               start_date=start_date,\n",
    "                                               end_date=end_date\n",
    "                                               )\n"
   ],
   "metadata": {
    "collapsed": false,
    "pycharm": {
     "name": "#%%\n"
    }
   }
  },
  {
   "cell_type": "markdown",
   "source": [
    "<h2>\n",
    "Cash Trigger Strategy\n",
    "</h2>\n",
    "<p>\n",
    "The plot below shows the results with the cash trigger strategy using a single risk (equity)\n",
    "asset, SPY.  When the strategy is \"risk off\" the strategy invests in one of four\n",
    "bonds JNK, TLT, MUB or SHY (depending on which had the highest return in the last three\n",
    "months).\n",
    "</p>"
   ],
   "metadata": {
    "collapsed": false,
    "pycharm": {
     "name": "#%% md\n"
    }
   }
  },
  {
   "cell_type": "code",
   "execution_count": null,
   "outputs": [],
   "source": [
    "plot_df = build_plot_data(holdings=holdings, portfolio_df=spy_portfolio_df, spy_df=spy_close)\n",
    "plot_df.plot(grid=True, title='SPY Portfolio and SPY', figsize=(10,6))"
   ],
   "metadata": {
    "collapsed": false,
    "pycharm": {
     "name": "#%%\n"
    }
   }
  },
  {
   "cell_type": "markdown",
   "source": [
    "<p>\n",
    "For an investment in 2008, the <i>Cash Trigger</i> strategy has impressive results.\n",
    "As I learned from analyzing <i>The 12% Solution</i> strategy, one reason that the Cash\n",
    "Trigger strategy does so much better than the S&P 500 (SPY) is that the strategy portfolio\n",
    "did have a large loss in the 2008-2009 crash.\n",
    "</p>\n",
    "\n",
    "<p>\n",
    "The table below shows the assets chosen by the strategy in various time periods.  Periods\n",
    "where an asset is held over multiple months are summarized in a single table entry.\n",
    "</p>"
   ],
   "metadata": {
    "collapsed": false,
    "pycharm": {
     "name": "#%% md\n"
    }
   }
  },
  {
   "cell_type": "code",
   "execution_count": null,
   "outputs": [],
   "source": [
    "assets_collapsed_df = collapse_asset_df(assets_df)\n",
    "\n",
    "print(tabulate(assets_collapsed_df, headers=[*assets_collapsed_df.columns], tablefmt='fancy_grid'))\n",
    "\n",
    "\n",
    "def calculate_volatility(prices: pd.DataFrame) -> pd.DataFrame:\n",
    "    sd_a = np.zeros(prices.shape[1])\n",
    "    for i, col in enumerate(prices.columns):\n",
    "        ts = prices[col]\n",
    "        ts_df = pd.DataFrame(ts)\n",
    "        ts_df.columns = [col]\n",
    "        ret_df = return_df(ts_df)\n",
    "        sd = float(round(ret_df.std() * sqrt(trading_days) * 100, 2))\n",
    "        sd_a[i] = sd\n",
    "    vol_df = pd.DataFrame(sd_a).transpose()\n",
    "    vol_df.columns = prices.columns\n",
    "    vol_df.index =  ['Volatility (yearly percent)']\n",
    "    return vol_df\n",
    "\n",
    "\n",
    "vol_df = calculate_volatility(plot_df)"
   ],
   "metadata": {
    "collapsed": false,
    "pycharm": {
     "name": "#%%\n"
    }
   }
  },
  {
   "cell_type": "markdown",
   "source": [
    "<p>\n",
    "The volatility of the cash trigger portfolio is less than the volatility of\n",
    "SPY (the S&P 500), although the return of the portfolio is much higher.\n",
    "</p>"
   ],
   "metadata": {
    "collapsed": false,
    "pycharm": {
     "name": "#%% md\n"
    }
   }
  },
  {
   "cell_type": "code",
   "execution_count": null,
   "outputs": [],
   "source": [
    "print(tabulate(vol_df, headers=[*vol_df.columns], tablefmt='fancy_grid'))\n",
    "\n",
    "\n",
    "def yearly_return(prices: pd.DataFrame) -> pd.DataFrame:\n",
    "    \"\"\"\n",
    "    The yearly return is the return if the asset where purchased on the\n",
    "    first trading day and sold on the last trading day.\n",
    "    :param prices: the asset prices for the time period.\n",
    "    :return: a DataFrame containing the yearly returns for the asset.\n",
    "    \"\"\"\n",
    "    year_periods = find_year_periods(prices)\n",
    "    year_return_df = pd.DataFrame()\n",
    "    for ix, period in year_periods.iterrows():\n",
    "        start_ix = period['start_ix']\n",
    "        end_ix = period['end_ix']\n",
    "        start_val = prices[:][start_ix:start_ix + 1].values\n",
    "        end_val = prices[:][end_ix:end_ix + 1].values\n",
    "        r = (end_val/start_val) - 1\n",
    "        r_percent = np.round(r * 100, 2)\n",
    "        r_df = pd.DataFrame(r_percent)\n",
    "        r_df.columns = prices.columns\n",
    "        year_return_df = pd.concat([year_return_df, r_df])\n",
    "    year_return_df.index = year_periods['year']\n",
    "    return year_return_df\n",
    "\n",
    "\n",
    "def yearly_drawdown(prices: pd.DataFrame) -> pd.DataFrame:\n",
    "    year_periods = find_year_periods(prices)\n",
    "    drawdown_df = pd.DataFrame()\n",
    "    for ix, period in year_periods.iterrows():\n",
    "        start_ix = period['start_ix']\n",
    "        end_ix = period['end_ix']\n",
    "        year_df = prices[:][start_ix:end_ix+1]\n",
    "        year_drawdown = qs.stats.max_drawdown(year_df)\n",
    "        year_drawdown_df = pd.DataFrame(year_drawdown).transpose()\n",
    "        drawdown_df = pd.concat([drawdown_df, year_drawdown_df])\n",
    "    drawdown_df = round(drawdown_df * 100, 2)\n",
    "    drawdown_df.index = year_periods['year']\n",
    "    return drawdown_df\n",
    "\n",
    "\n",
    "def build_drawdown_return(prices: pd.DataFrame) -> Tuple[pd.DataFrame, pd.DataFrame]:\n",
    "    year_return_df = yearly_return(prices)\n",
    "    drawdown_df = yearly_drawdown(prices)\n",
    "    return_cols = list()\n",
    "    for col in year_return_df.columns:\n",
    "        ret_col = f'{col} return'\n",
    "        return_cols.append(ret_col)\n",
    "    year_return_df.columns = return_cols\n",
    "    drawdown_cols = list()\n",
    "    for col in drawdown_df.columns:\n",
    "        dd_col = f'{col} drawdown'\n",
    "        drawdown_cols.append(dd_col)\n",
    "    drawdown_df.columns = drawdown_cols\n",
    "    table_df = pd.concat([year_return_df, drawdown_df], axis=1)\n",
    "    table_mean = pd.DataFrame(table_df.mean()).transpose()\n",
    "    table_mean.index = ['average']\n",
    "    return table_df, table_mean\n",
    "\n",
    "\n",
    "table_df, table_mean = build_drawdown_return(plot_df)"
   ],
   "metadata": {
    "collapsed": false,
    "pycharm": {
     "name": "#%%\n"
    }
   }
  },
  {
   "cell_type": "markdown",
   "source": [
    "<h3>\n",
    "Yearly Return and Drawdown from 2008\n",
    "</h3>\n",
    "<p>\n",
    "Drawdown is one measure of investment risk.\n",
    "Yearly drawdown is the maximum amount that an investment loses, as a percentage, over a one year\n",
    "period.  If the yearly return is larger than the drawdown, the investment will have a positive\n",
    "return for the year.\n",
    "</p>"
   ],
   "metadata": {
    "collapsed": false,
    "pycharm": {
     "name": "#%% md\n"
    }
   }
  },
  {
   "cell_type": "code",
   "execution_count": null,
   "outputs": [],
   "source": [
    "print(tabulate(table_df, headers=[*table_df.columns], tablefmt='fancy_grid'))\n",
    "\n",
    "print(tabulate(table_mean, headers=[*table_mean.columns], tablefmt='fancy_grid'))\n"
   ],
   "metadata": {
    "collapsed": false,
    "pycharm": {
     "name": "#%%\n"
    }
   }
  },
  {
   "cell_type": "markdown",
   "source": [
    "<p>\n",
    "The portfolio performance of a portfolio with only SPY as an asset from 2008 is\n",
    "impressive, beating the S&P 500 (SPY) by a significant multiple.  The portfolio has lower\n",
    "volatility and has almost twice the average return of the S&P 500, with a lower average\n",
    "drawdown.\n",
    "</p>\n",
    "<p>\n",
    "As we shall see in the next section, the portfolio performance is due to the fact that\n",
    "instead of losing money in the 2008-2009 market downturn, the portfolio was profitable.\n",
    "These gains were increased by compound return.\n",
    "</p>\n",
    "\n",
    "<h3>\n",
    "Cash Trigger Strategy from 2010, with SPY\n",
    "</h3>\n",
    "\n",
    "<p>\n",
    "In evaluating an investment strategy it is important to examine an investment start\n",
    "after the market crash, when the market has started to recover.  In this section we look\n",
    "at the cash trigger strategy where the investment starts in 2010.\n",
    "</p>"
   ],
   "metadata": {
    "collapsed": false,
    "pycharm": {
     "name": "#%% md\n"
    }
   }
  },
  {
   "cell_type": "code",
   "execution_count": null,
   "outputs": [],
   "source": [
    "d2010_start: datetime = datetime.fromisoformat('2010-01-04')\n",
    "\n",
    "d2010_spy_close = spy_data.close_data(d2010_start, end_date)\n",
    "d2010_moving_avg = spy_data.moving_avg(d2010_start, end_date)\n",
    "plot_df = pd.concat([d2010_spy_close, d2010_moving_avg], axis=1)"
   ],
   "metadata": {
    "collapsed": false,
    "pycharm": {
     "name": "#%%\n"
    }
   }
  },
  {
   "cell_type": "markdown",
   "source": [
    "<p>\n",
    "The 200-day moving average and SPY\n",
    "</p>"
   ],
   "metadata": {
    "collapsed": false,
    "pycharm": {
     "name": "#%% md\n"
    }
   }
  },
  {
   "cell_type": "code",
   "execution_count": null,
   "outputs": [],
   "source": [
    "plot_df.plot(grid=True, title=f'Moving average and SPY from {d2010_start.strftime(\"%m/%d/%Y\")}', figsize=(10,6))\n",
    "\n",
    "\n",
    "d2010_start: datetime = datetime.fromisoformat('2010-01-04')\n",
    "d2010_spy_portfolio_df, assets_df = portfolio_return(holdings=holdings,\n",
    "                                               risk_asset=spy_close,\n",
    "                                               bond_asset=cash_trigger_bond_adjclose,\n",
    "                                               spy_data=spy_data,\n",
    "                                               start_date=d2010_start,\n",
    "                                               end_date=end_date\n",
    "                                               )\n",
    "\n",
    "plot_df = build_plot_data(holdings=holdings, portfolio_df=d2010_spy_portfolio_df, spy_df=spy_close)\n",
    "plot_df.plot(grid=True, title='SPY Portfolio from 2010 and SPY', figsize=(10,6))\n",
    "\n",
    "vol_df = calculate_volatility(plot_df)"
   ],
   "metadata": {
    "collapsed": false,
    "pycharm": {
     "name": "#%%\n"
    }
   }
  },
  {
   "cell_type": "markdown",
   "source": [
    "<p>\n",
    "The volatility of the strategy portfolio and SPY for an investment that starts in 2010\n",
    "are shown below.  The strategy is slightly\n",
    "less volatile.  As the plot shows, the final portfolio value is less than SPY.\n",
    "</p>"
   ],
   "metadata": {
    "collapsed": false,
    "pycharm": {
     "name": "#%% md\n"
    }
   }
  },
  {
   "cell_type": "code",
   "execution_count": null,
   "outputs": [],
   "source": [
    "print(tabulate(vol_df, headers=[*vol_df.columns], tablefmt='fancy_grid'))\n",
    "\n",
    "table_df, table_mean = build_drawdown_return(plot_df)"
   ],
   "metadata": {
    "collapsed": false,
    "pycharm": {
     "name": "#%%\n"
    }
   }
  },
  {
   "cell_type": "markdown",
   "source": [
    "<p>\n",
    "The yearly return and drawdowns are shown below.\n",
    "</p>"
   ],
   "metadata": {
    "collapsed": false,
    "pycharm": {
     "name": "#%% md\n"
    }
   }
  },
  {
   "cell_type": "code",
   "execution_count": null,
   "outputs": [],
   "source": [
    "print(tabulate(table_df, headers=[*table_df.columns], tablefmt='fancy_grid'))\n",
    "\n",
    "print(tabulate(table_mean, headers=[*table_mean.columns], tablefmt='fancy_grid'))"
   ],
   "metadata": {
    "collapsed": false,
    "pycharm": {
     "name": "#%%\n"
    }
   }
  },
  {
   "cell_type": "markdown",
   "source": [
    "<p>\n",
    "The strategy has slightly less risk (shown by the volatility and the maximum drawdown), but\n",
    "also slightly less return compared to the S&P 500.\n",
    "</p>\n",
    "\n",
    "<h3>\n",
    "SPY only Portfolio performace over the last 5-years\n",
    "</h3>"
   ],
   "metadata": {
    "collapsed": false,
    "pycharm": {
     "name": "#%% md\n"
    }
   }
  },
  {
   "cell_type": "code",
   "execution_count": null,
   "outputs": [],
   "source": [
    "d5_year_start = end_date - relativedelta(years=5)\n",
    "d5_spy_close = spy_data.close_data(d5_year_start, end_date)\n",
    "d5_moving_avg = spy_data.moving_avg(d5_year_start, end_date)\n",
    "plot_df = pd.concat([d5_spy_close, d5_moving_avg], axis=1)\n",
    "\n",
    "plot_df.plot(grid=True, title=f'Moving average and SPY from {d5_year_start.strftime(\"%m/%d/%Y\")}', figsize=(10,6))\n",
    "\n",
    "five_year_spy_portfolio_df, unused = portfolio_return(holdings=holdings,\n",
    "                                               risk_asset=spy_close,\n",
    "                                               bond_asset=cash_trigger_bond_adjclose,\n",
    "                                               spy_data=spy_data,\n",
    "                                               start_date=d5_year_start,\n",
    "                                               end_date=end_date\n",
    "                                               )\n",
    "\n",
    "plot_df = build_plot_data(holdings=holdings, portfolio_df=five_year_spy_portfolio_df, spy_df=spy_close)"
   ],
   "metadata": {
    "collapsed": false,
    "pycharm": {
     "name": "#%%\n"
    }
   }
  },
  {
   "cell_type": "markdown",
   "source": [
    "<p>\n",
    "The SPY only portfolio using the strategy is shown below.\n",
    "</p>"
   ],
   "metadata": {
    "collapsed": false,
    "pycharm": {
     "name": "#%% md\n"
    }
   }
  },
  {
   "cell_type": "code",
   "execution_count": null,
   "outputs": [],
   "source": [
    "plot_df.plot(grid=True, title=f'SPY Portfolio from {d5_year_start.strftime(\"%m/%d/%Y\")} and SPY', figsize=(10,6))"
   ],
   "metadata": {
    "collapsed": false,
    "pycharm": {
     "name": "#%%\n"
    }
   }
  },
  {
   "cell_type": "markdown",
   "source": [
    "<p>\n",
    "The portfolio statistics are shown below:\n",
    "</p>"
   ],
   "metadata": {
    "collapsed": false,
    "pycharm": {
     "name": "#%% md\n"
    }
   }
  },
  {
   "cell_type": "code",
   "execution_count": null,
   "outputs": [],
   "source": [
    "vol_df = calculate_volatility(plot_df)\n",
    "print(tabulate(vol_df, headers=[*vol_df.columns], tablefmt='fancy_grid'))\n",
    "\n",
    "table_df, table_mean = build_drawdown_return(plot_df)\n",
    "print(tabulate(table_df, headers=[*table_df.columns], tablefmt='fancy_grid'))\n",
    "\n",
    "print(tabulate(table_mean, headers=[*table_mean.columns], tablefmt='fancy_grid'))"
   ],
   "metadata": {
    "collapsed": false,
    "pycharm": {
     "name": "#%%\n"
    }
   }
  },
  {
   "cell_type": "markdown",
   "source": [
    "<h3>\n",
    "SPY only Portfolio performace over the last 3-years\n",
    "</h3>"
   ],
   "metadata": {
    "collapsed": false,
    "pycharm": {
     "name": "#%% md\n"
    }
   }
  },
  {
   "cell_type": "code",
   "execution_count": null,
   "outputs": [],
   "source": [
    "d3_year_start = end_date - relativedelta(years=3)\n",
    "\n",
    "d3_spy_close = spy_data.close_data(d3_year_start, end_date)\n",
    "d3_moving_avg = spy_data.moving_avg(d3_year_start, end_date)\n",
    "plot_df = pd.concat([d3_spy_close, d3_moving_avg], axis=1)\n",
    "\n",
    "plot_df.plot(grid=True, title=f'Moving average and SPY from {d3_year_start.strftime(\"%m/%d/%Y\")}', figsize=(10,6))\n",
    "\n",
    "\n",
    "three_year_spy_portfolio_df, unused = portfolio_return(holdings=holdings,\n",
    "                                               risk_asset=spy_close,\n",
    "                                               bond_asset=cash_trigger_bond_adjclose,\n",
    "                                               spy_data=spy_data,\n",
    "                                               start_date=d3_year_start,\n",
    "                                               end_date=end_date\n",
    "                                               )\n",
    "\n",
    "plot_df = build_plot_data(holdings=holdings, portfolio_df=three_year_spy_portfolio_df, spy_df=spy_close)"
   ],
   "metadata": {
    "collapsed": false,
    "pycharm": {
     "name": "#%%\n"
    }
   }
  },
  {
   "cell_type": "markdown",
   "source": [
    "<p>\n",
    "The SPY only portfolio using the strategy is shown below.\n",
    "</p>"
   ],
   "metadata": {
    "collapsed": false,
    "pycharm": {
     "name": "#%% md\n"
    }
   }
  },
  {
   "cell_type": "code",
   "execution_count": null,
   "outputs": [],
   "source": [
    "plot_df.plot(grid=True, title=f'SPY Portfolio from {d3_year_start.strftime(\"%m/%d/%Y\")} and SPY', figsize=(10,6))"
   ],
   "metadata": {
    "collapsed": false,
    "pycharm": {
     "name": "#%%\n"
    }
   }
  },
  {
   "cell_type": "markdown",
   "source": [
    "<p>\n",
    "The portfolio statistics are shown below:\n",
    "</p>"
   ],
   "metadata": {
    "collapsed": false,
    "pycharm": {
     "name": "#%% md\n"
    }
   }
  },
  {
   "cell_type": "code",
   "execution_count": null,
   "outputs": [],
   "source": [
    "vol_df = calculate_volatility(plot_df)\n",
    "print(tabulate(vol_df, headers=[*vol_df.columns], tablefmt='fancy_grid'))\n",
    "\n",
    "table_df, table_mean = build_drawdown_return(plot_df)\n",
    "print(tabulate(table_df, headers=[*table_df.columns], tablefmt='fancy_grid'))\n",
    "\n",
    "print(tabulate(table_mean, headers=[*table_mean.columns], tablefmt='fancy_grid'))"
   ],
   "metadata": {
    "collapsed": false,
    "pycharm": {
     "name": "#%%\n"
    }
   }
  },
  {
   "cell_type": "markdown",
   "source": [
    "<h3>\n",
    "SPY only Portfolio performace over the last year\n",
    "</h3>"
   ],
   "metadata": {
    "collapsed": false,
    "pycharm": {
     "name": "#%% md\n"
    }
   }
  },
  {
   "cell_type": "code",
   "execution_count": null,
   "outputs": [],
   "source": [
    "d1_year_start = end_date - relativedelta(years=1)\n",
    "\n",
    "d1_spy_close = spy_data.close_data(d1_year_start, end_date)\n",
    "d1_moving_avg = spy_data.moving_avg(d1_year_start, end_date)\n",
    "plot_df = pd.concat([d1_spy_close, d1_moving_avg], axis=1)\n",
    "\n",
    "plot_df.plot(grid=True, title=f'Moving average and SPY from {d1_year_start.strftime(\"%m/%d/%Y\")}', figsize=(10,6))\n",
    "\n",
    "\n",
    "one_year_spy_portfolio_df, unused = portfolio_return(holdings=holdings,\n",
    "                                               risk_asset=spy_close,\n",
    "                                               bond_asset=cash_trigger_bond_adjclose,\n",
    "                                               spy_data=spy_data,\n",
    "                                               start_date=d1_year_start,\n",
    "                                               end_date=end_date\n",
    "                                               )\n",
    "\n",
    "plot_df = build_plot_data(holdings=holdings, portfolio_df=one_year_spy_portfolio_df, spy_df=spy_close)"
   ],
   "metadata": {
    "collapsed": false,
    "pycharm": {
     "name": "#%%\n"
    }
   }
  },
  {
   "cell_type": "markdown",
   "source": [
    "<p>\n",
    "The SPY only portfolio using the strategy is shown below.\n",
    "</p>"
   ],
   "metadata": {
    "collapsed": false,
    "pycharm": {
     "name": "#%% md\n"
    }
   }
  },
  {
   "cell_type": "code",
   "execution_count": null,
   "outputs": [],
   "source": [
    "plot_df.plot(grid=True, title=f'SPY Portfolio from {d1_year_start.strftime(\"%m/%d/%Y\")} and SPY', figsize=(10,6))"
   ],
   "metadata": {
    "collapsed": false,
    "pycharm": {
     "name": "#%%\n"
    }
   }
  },
  {
   "cell_type": "markdown",
   "source": [
    "<p>\n",
    "The portfolio statistics are shown below:\n",
    "</p>"
   ],
   "metadata": {
    "collapsed": false,
    "pycharm": {
     "name": "#%% md\n"
    }
   }
  },
  {
   "cell_type": "code",
   "execution_count": null,
   "outputs": [],
   "source": [
    "vol_df = calculate_volatility(plot_df)\n",
    "print(tabulate(vol_df, headers=[*vol_df.columns], tablefmt='fancy_grid'))\n",
    "\n",
    "table_df, table_mean = build_drawdown_return(plot_df)\n",
    "print(tabulate(table_df, headers=[*table_df.columns], tablefmt='fancy_grid'))\n",
    "\n",
    "print(tabulate(table_mean, headers=[*table_mean.columns], tablefmt='fancy_grid'))"
   ],
   "metadata": {
    "collapsed": false,
    "pycharm": {
     "name": "#%%\n"
    }
   }
  },
  {
   "cell_type": "markdown",
   "source": [
    "<h3>\n",
    "Cash Trigger Portfolio Performance with SPY\n",
    "</h3>\n",
    "<p>\n",
    "The backtests for the <i>Cash Trigger</i> strategy shows that the strategy had exceptional\n",
    "returns for an investment in 2008.  For investments that started at later times the portfolio\n",
    "return and risk was either similar to SPY (for an investment in 2010) or worse than SPY\n",
    "for later periods. The <i>Cash Trigger</i> portfolio performance has been\n",
    "particularly bad in the last three years, when the market has been very volatile and the\n",
    "strategy has done worse than SPY.  If this strategy were used by a manager of an investment\n",
    "fund over the last five years, they might have been fired.\n",
    "</p>\n",
    "<p>\n",
    "David Alan Carter writes that the attraction of the <i>Cash Trigger</i> strategy is that it\n",
    "may save your investment portfolio from significant losses in a downturns like the 2008-2009 \"great\n",
    "recession\".  As a long-term investment strategy the SPY underperformance is\n",
    "\"worth the price of admission\" to avoid significant market downturn. The prices of admission\n",
    "here is underperformance strategy investments made in the last decade or so, compared to SPY.\n",
    "</p>\n",
    "<p>\n",
    "Backtests like those in this notebook show how a particular strategy would have performed in the past.\n",
    "The future cannot be known, so backtest results are the best we can do. Backtest results are\n",
    "meaningful to the extent that the future resembles the past. We do not know if future downturns\n",
    "will resemble the 2008-2009 downturn.\n",
    "</p>\n",
    "\n",
    "<h2>\n",
    "Strategy Performance with a Mixed Set of ETFs\n",
    "</h2>\n",
    "<p>\n",
    "This section looks at the performance of the strategy applied to an equity portfolio composed of\n",
    "four ETFs: VV, VO, VB and SOXX. An equally weighted portfolio of these four ETFs are used\n",
    "for the \"risk-on\" periods. For the \"risk-off\" periods, the same bond assets\n",
    "are used.\n",
    "</p>\n",
    "<p>\n",
    "The four ETFs are briefly described below.\n",
    "</p>\n",
    "\n",
    "<ul>\n",
    "<li>\n",
    "VV: Vanguard Large-Cap ETF\n",
    "</li>\n",
    "<ul>\n",
    "<li>\n",
    "VV tracks a market-cap-weighted index that covers 85% of the market\n",
    "capitalization of the US equity market.\n",
    "</li>\n",
    "<li>\n",
    "Inception date: 01/27/04\n",
    "</li>\n",
    "</ul>\n",
    "</li>\n",
    "<li>\n",
    "VO: Vanguard Mid-Cap ETF\n",
    "</li>\n",
    "<ul>\n",
    "<li>\n",
    "VO tracks the CRSP US Mid Cap Index, a diversified index of mid-cap US companies.\n",
    "</li>\n",
    "<li>\n",
    "Inception date: 01/26/04\n",
    "</li>\n",
    "</ul>\n",
    "</li>\n",
    "<li>\n",
    "VB: Vanguard Small-Cap ETF\n",
    "</li>\n",
    "<ul>\n",
    "<li>\n",
    "VB tracks the CRSP US Small Cap Index. The market-cap-weighted index includes the\n",
    "bottom 2-15% of the investable universe.\n",
    "</li>\n",
    "<li>\n",
    "Inception date: 01/26/04\n",
    "</li>\n",
    "</ul>\n",
    "</li>\n",
    "<li>\n",
    "SOXX: iShares Semiconductor ETF\n",
    "</li>\n",
    "<ul>\n",
    "<li>\n",
    "SOXX tracks a modified market-cap-weighted index of 30 US-listed semiconductor companies.\n",
    "</li>\n",
    "<li>\n",
    "Inception date: 07/10/01\n",
    "</li>\n",
    "</ul>\n",
    "</li>\n",
    "</ul>"
   ],
   "metadata": {
    "collapsed": false,
    "pycharm": {
     "name": "#%% md\n"
    }
   }
  },
  {
   "cell_type": "code",
   "execution_count": null,
   "outputs": [],
   "source": [
    "market_etfs = ['SOXX', 'VV', 'VO', 'VB']\n",
    "\n",
    "market_etf_file = \"market_etf_adjclose\"\n",
    "market_etf_adjclose = get_market_data(file_name=market_etf_file,\n",
    "                                      data_col='Adj Close',\n",
    "                                      symbols=market_etfs,\n",
    "                                      data_source=data_source,\n",
    "                                      start_date=start_date,\n",
    "                                      end_date=end_date)"
   ],
   "metadata": {
    "collapsed": false,
    "pycharm": {
     "name": "#%%\n"
    }
   }
  },
  {
   "cell_type": "markdown",
   "source": [
    "<h3>\n",
    "Calculating ETF Portfolio Value\n",
    "</h3>\n",
    "\n",
    "<p>\n",
    "To calculate the portfolio value for the four ETF we start with an investment balance. It doesn't\n",
    "matter what this balance is, so we'll use $100,000.  Each asset is invested with equal weight,\n",
    "25% per asset.  The return for each asset is calculated and applied to the initial investment.\n",
    "The portfolio is rebalanced every year so the ETF proportions remain around 25%. The results\n",
    "in <a href=\"https://github.com/IanLKaplan/all_weather_portfolio/blob/master/all_weather_portfolio.ipynb\"><i>All Weather Portfolio</i></a>\n",
    "suggest that the portfolio should not get too out of balance over\n",
    "a one year period.\n",
    "</p>\n",
    "<p>\n",
    "The result will be a price series which can be used to in the <i>Cash Trigger</i> strategy.\n",
    "When the strategy is \"risk-on\" the portfolio will be invested in the\n",
    "ETF assets.  When the strategy is \"risk-off\" the portfolio will be invested in bonds.\n",
    "</p>"
   ],
   "metadata": {
    "collapsed": false,
    "pycharm": {
     "name": "#%% md\n"
    }
   }
  },
  {
   "cell_type": "code",
   "execution_count": null,
   "outputs": [],
   "source": [
    "def calc_asset_portfolio(holdings: float, prices_df: pd.DataFrame, weights: np.array) -> pd.DataFrame:\n",
    "    \"\"\"\n",
    "     Given a set of asset prices and weights, return a DataFrame where each column contains\n",
    "     a price series for the asset, starting with a weighted portfolio investment. For example,\n",
    "     if the weights are [0.25, 0.25, 0.25, 0.25] and the initial holding is 100,000 the\n",
    "     initial prices series will be the returns for each asset applied to 25,000. The\n",
    "     portfolio will be rebalanced every year, so the weights will be approximately\n",
    "     maintained.\n",
    "    :param holdings: the initial value invested in the portfolio\n",
    "    :param prices_df: a DataFrame containing a price series for the portfolio assets\n",
    "    :param weights: The weights for the various assets\n",
    "    :return: The prices series for the yearly rebalanced assets.\n",
    "    \"\"\"\n",
    "    start_balance = holdings * weights\n",
    "    portfolio_df = pd.DataFrame()\n",
    "    year_periods = find_year_periods(prices_df)\n",
    "    # columns=['start_ix', 'end_ix', 'year']\n",
    "    for ix, period in year_periods.iterrows():\n",
    "        start_ix = period['start_ix']\n",
    "        end_ix = period['end_ix']\n",
    "        year_prices_df = prices_df[:][start_ix:end_ix+1]\n",
    "        year_return = return_df(year_prices_df)\n",
    "        year_portfolio_df = pd.DataFrame([[], [], [], []]).transpose()\n",
    "        year_portfolio_df.columns = prices_df.columns\n",
    "        for jx, col in enumerate(year_prices_df.columns):\n",
    "            col_prices_a = apply_return(start_balance[jx], year_return[col])\n",
    "            year_portfolio_df[col] = pd.DataFrame(col_prices_a)\n",
    "        year_total = year_portfolio_df.tail(1).values.sum()\n",
    "        # rebalanced every year\n",
    "        start_balance = year_total * weights\n",
    "        portfolio_df = pd.concat([portfolio_df, year_portfolio_df])\n",
    "    date_index = prices_df.index\n",
    "    portfolio_df.index = date_index\n",
    "    return portfolio_df\n",
    "\n",
    "\n",
    "\n",
    "etf_weights = np.full(market_etf_adjclose.shape[1], 0.25)\n",
    "portfolio_prices = calc_asset_portfolio(holdings=holdings, prices_df=market_etf_adjclose, weights=etf_weights)\n",
    "portfolio_sum_s = portfolio_prices.sum(axis=1)\n",
    "portfolio_sum_df = pd.DataFrame(portfolio_sum_s)\n",
    "portfolio_sum_df.columns = ['portfolio']\n",
    "plot_df = build_plot_data(holdings=holdings, portfolio_df=portfolio_sum_df, spy_df=spy_close)"
   ],
   "metadata": {
    "collapsed": false,
    "pycharm": {
     "name": "#%%\n"
    }
   }
  },
  {
   "cell_type": "markdown",
   "source": [
    "<p>\n",
    "The equally weighted portfolio of the four ETFs is plotted below.\n",
    "</p>"
   ],
   "metadata": {
    "collapsed": false,
    "pycharm": {
     "name": "#%% md\n"
    }
   }
  },
  {
   "cell_type": "code",
   "execution_count": null,
   "outputs": [],
   "source": [
    "plot_df.plot(grid=True, title='4-ETF Portfolio and SPY', figsize=(10,6))"
   ],
   "metadata": {
    "collapsed": false,
    "pycharm": {
     "name": "#%%\n"
    }
   }
  },
  {
   "cell_type": "markdown",
   "source": [
    "<p>\n",
    "The statistics for a non-cash trigger investment in the 4-ETF portfolio are shown below.\n",
    "</p>"
   ],
   "metadata": {
    "collapsed": false,
    "pycharm": {
     "name": "#%% md\n"
    }
   }
  },
  {
   "cell_type": "code",
   "execution_count": null,
   "outputs": [],
   "source": [
    "vol_df = calculate_volatility(plot_df)\n",
    "print(tabulate(vol_df, headers=[*vol_df.columns], tablefmt='fancy_grid'))\n",
    "\n",
    "table_df, table_mean = build_drawdown_return(plot_df)\n",
    "print(tabulate(table_df, headers=[*table_df.columns], tablefmt='fancy_grid'))\n",
    "\n",
    "print(tabulate(table_mean, headers=[*table_mean.columns], tablefmt='fancy_grid'))\n",
    "\n",
    "\n",
    "four_etf_portfolio_df, unused = portfolio_return(holdings=holdings,\n",
    "                                               risk_asset=portfolio_sum_df,\n",
    "                                               bond_asset=cash_trigger_bond_adjclose,\n",
    "                                               spy_data=spy_data,\n",
    "                                               start_date=start_date,\n",
    "                                               end_date=end_date\n",
    "                                               )\n",
    "\n",
    "plot_df = build_plot_data(holdings=holdings, portfolio_df=four_etf_portfolio_df, spy_df=spy_close)"
   ],
   "metadata": {
    "collapsed": false,
    "pycharm": {
     "name": "#%%\n"
    }
   }
  },
  {
   "cell_type": "markdown",
   "source": [
    "<p>\n",
    "The <i>Cash Trigger</i> strategy applied to the 4-ETF portfolio for the \"risk-on\" periods\n",
    "is shown below for an investment starting in 2008.  These results are spectacular. An investment\n",
    "of $100,000 would have resulted in a portfolio balance of over a million dollars.\n",
    "</p>"
   ],
   "metadata": {
    "collapsed": false,
    "pycharm": {
     "name": "#%% md\n"
    }
   }
  },
  {
   "cell_type": "code",
   "execution_count": null,
   "outputs": [],
   "source": [
    "plot_df.plot(grid=True, title='4-ETF Portfolio with Cash Trigger and SPY', figsize=(10,6))"
   ],
   "metadata": {
    "collapsed": false,
    "pycharm": {
     "name": "#%%\n"
    }
   }
  },
  {
   "cell_type": "markdown",
   "source": [
    "<p>\n",
    "The portfolio statistics are shown below.\n",
    "</p>"
   ],
   "metadata": {
    "collapsed": false,
    "pycharm": {
     "name": "#%% md\n"
    }
   }
  },
  {
   "cell_type": "code",
   "execution_count": null,
   "outputs": [],
   "source": [
    "vol_df = calculate_volatility(plot_df)\n",
    "print(tabulate(vol_df, headers=[*vol_df.columns], tablefmt='fancy_grid'))\n",
    "\n",
    "table_df, table_mean = build_drawdown_return(plot_df)\n",
    "print(tabulate(table_df, headers=[*table_df.columns], tablefmt='fancy_grid'))\n",
    "\n",
    "print(tabulate(table_mean, headers=[*table_mean.columns], tablefmt='fancy_grid'))\n",
    "\n",
    "five_year_etf_portfolio_df, unused = portfolio_return(holdings=holdings,\n",
    "                                               risk_asset=portfolio_sum_df,\n",
    "                                               bond_asset=cash_trigger_bond_adjclose,\n",
    "                                               spy_data=spy_data,\n",
    "                                               start_date=d5_year_start,\n",
    "                                               end_date=end_date\n",
    "                                               )\n",
    "\n",
    "plot_df = build_plot_data(holdings=holdings, portfolio_df=five_year_etf_portfolio_df, spy_df=spy_close)"
   ],
   "metadata": {
    "collapsed": false,
    "pycharm": {
     "name": "#%%\n"
    }
   }
  },
  {
   "cell_type": "markdown",
   "source": [
    "<p>\n",
    "As we have seen with previous examples in this notebook, investments that are made after 2009\n",
    "do not do as well.  The plot below shows the 4-ETF assets in an investment over the last\n",
    "five years.\n",
    "</p>"
   ],
   "metadata": {
    "collapsed": false,
    "pycharm": {
     "name": "#%% md\n"
    }
   }
  },
  {
   "cell_type": "code",
   "execution_count": null,
   "outputs": [],
   "source": [
    "plot_df.plot(grid=True, title=f'4-ETF and SPY with cash trigger past 5 years from {d5_year_start.strftime(\"%m/%d/%Y\")}', figsize=(10,6))"
   ],
   "metadata": {
    "collapsed": false,
    "pycharm": {
     "name": "#%%\n"
    }
   }
  },
  {
   "cell_type": "markdown",
   "source": [
    "<p>\n",
    "The portfolio statistics are shown below. By every measure the 4-ETF portfolio with the <i>Cash\n",
    "Trigger</i> strategy performs worse than SPY.\n",
    "</p>"
   ],
   "metadata": {
    "collapsed": false,
    "pycharm": {
     "name": "#%% md\n"
    }
   }
  },
  {
   "cell_type": "code",
   "execution_count": null,
   "outputs": [],
   "source": [
    "vol_df = calculate_volatility(plot_df)\n",
    "print(tabulate(vol_df, headers=[*vol_df.columns], tablefmt='fancy_grid'))\n",
    "\n",
    "table_df, table_mean = build_drawdown_return(plot_df)\n",
    "print(tabulate(table_df, headers=[*table_df.columns], tablefmt='fancy_grid'))\n",
    "\n",
    "print(tabulate(table_mean, headers=[*table_mean.columns], tablefmt='fancy_grid'))"
   ],
   "metadata": {
    "collapsed": false,
    "pycharm": {
     "name": "#%%\n"
    }
   }
  },
  {
   "cell_type": "markdown",
   "source": [
    "<h2>\n",
    "The Cash Trigger combined with ETF Rotation\n",
    "</h2>\n",
    "<p>\n",
    "ETF rotation stratagies are explored in <a href=\"https://github.com/IanLKaplan/twelve_percent/blob/master/twelve_percent.ipynb\"><i>ETF Rotation by Ian Kaplan</i></a>.\n",
    "In this section I explore the ETF rotation strategy combined with the cash trigger signal.\n",
    "</p>\n",
    "<p>\n",
    "The ETF rotation strategy uses a portfolio composed of 60% stock and 40% bonds.\n",
    "Each portfolio component has a set of equity or bond ETFs that are selected on the basis\n",
    "of the highest return over the last three months.\n",
    "</p>\n",
    "<p>\n",
    "The strategy explored in this section does not have the dedicated 40% bond component.\n",
    "When the cash trigger is \"risk-on\" all of the portfolio assets will be invested in\n",
    "one of the four equity ETF (IWM, MDY, QQQ or SPY) or SHY, based on their relative performance.\n",
    "When the cash trigger is \"risk-off\" the entire portfolio will be invested in\n",
    "one of four bond assets (JNK, TLT, MUB or SHY).\n",
    "</p>\n",
    "<h2>\n",
    "The ETF Rotation Set\n",
    "</h2>\n",
    "<p>\n",
    "One of the surprises from the ETF rotation notebook is that I did not find an ETF\n",
    "set that performed better than IWM, MDY, QQQ and SPY (in combination with SHY). This\n",
    "ETF set is used in the strategy that combines the cash trigger with ETF rotation.\n",
    "</p>\n",
    "<h3>\n",
    "Equity ETFs\n",
    "</h3>\n",
    "<ul>\n",
    "<li>\n",
    "<p>\n",
    "IWM: iShares Russell 2000 ETF\n",
    "</p>\n",
    "<p>\n",
    "IWM tracks a market-cap-weighted index of US small-cap stocks. The index selects\n",
    "stocks ranked 1,001-3,000 by market cap.\n",
    "</p>\n",
    "<p>\n",
    "Inception date: 5/22/2000\n",
    "</p>\n",
    "</li>\n",
    "<li>\n",
    "<p>\n",
    "MDY: SPDR S&P Midcap 400 ETF Trust\n",
    "</p>\n",
    "<p>\n",
    "MDY tracks a market-cap-weighted index of midcap US companies.\n",
    "</p>\n",
    "<p>\n",
    "Inception date: 5/04/1995\n",
    "</p>\n",
    "</li>\n",
    "<li>\n",
    "<p>\n",
    "QQQ: Invesco QQQ Trust\n",
    "</p>\n",
    "<p>\n",
    "QQQ tracks a modified-market-cap-weighted index of 100 NASDAQ-listed stocks.\n",
    "</p>\n",
    "<p>\n",
    "Inception date: 3/10/1999\n",
    "</p>\n",
    "</li>\n",
    "<li>\n",
    "<p>\n",
    "SPY: SPDR S&P 500 ETF Trust\n",
    "</p>\n",
    "<p>\n",
    "SPY tracks a market-cap-weighted index of US large- and midcap stocks selected by\n",
    "the S&P Committee (e.g., S&P 500).\n",
    "</p>\n",
    "<p>\n",
    "Inception date: Jan 22, 1993\n",
    "</p>\n",
    "</li>\n",
    "</ul>"
   ],
   "metadata": {
    "collapsed": false,
    "pycharm": {
     "name": "#%% md\n"
    }
   }
  },
  {
   "cell_type": "code",
   "execution_count": null,
   "outputs": [],
   "source": [
    "def percent_return_df(start_date: datetime, end_date: datetime, prices_df: pd.DataFrame) -> pd.DataFrame:\n",
    "    def percent_return(time_series: pd.Series) -> pd.Series:\n",
    "        return list(((time_series[i] / time_series[0]) - 1.0 for i in range(0, len(time_series))))\n",
    "\n",
    "\n",
    "    date_index = prices_df.index\n",
    "    start_ix = findDateIndex(date_index, start_date)\n",
    "    end_ix = findDateIndex(date_index, end_date)\n",
    "    period_df = prices_df[:][start_ix:end_ix+1]\n",
    "    period_return_df = pd.DataFrame()\n",
    "    for col in period_df.columns:\n",
    "        return_series = percent_return(period_df[col])\n",
    "        period_return_df[col] = return_series\n",
    "    period_return_df.index = period_df.index\n",
    "    return_percent_df = round(period_return_df * 100, 2)\n",
    "    return return_percent_df\n",
    "\n",
    "\n",
    "# We already have the bond set JNK, TLT, MUB or SHYin the DataFrame cash_trigger_bond_adjclose\n",
    "# We already have SPY close prices. For consistency we'll use close prices, instead of\n",
    "# adjusted close prices for IWM, MDY and QQQ.\n",
    "\n",
    "rotation_etfs = ['IWM', 'MDY', 'QQQ']\n",
    "rotation_etf_file = 'rotation_etf_close'\n",
    "rotation_etf_close = get_market_data(file_name=rotation_etf_file,\n",
    "                                      data_col='Close',\n",
    "                                      symbols=rotation_etfs,\n",
    "                                      data_source=data_source,\n",
    "                                      start_date=start_date,\n",
    "                                      end_date=end_date)\n",
    "\n",
    "# SPY has already been downloaded. So add SPY to the rotation_etf_close set.\n",
    "rotation_etf_close['SPY'] = spy_close\n",
    "# Add SHY (the cash proxy bond) to the ETF rotation set.\n",
    "rotation_etf_shy = rotation_etf_close.copy()\n",
    "rotation_etf_shy[shy_ticker] = shy_adjclose"
   ],
   "metadata": {
    "collapsed": false,
    "pycharm": {
     "name": "#%%\n"
    }
   }
  },
  {
   "cell_type": "markdown",
   "source": [
    "<h3>\n",
    "The ETF Rotation: The Equity ETFs\n",
    "</h3>\n",
    "\n",
    "<p>\n",
    "The plot below shows the percentage return since 2008 for the four equity ETFs in the ETF\n",
    "rotation set.\n",
    "</p>\n",
    "<p>\n",
    "This plot shows that the QQQ ETF has a higher return than the other ETFs.\n",
    "</p>\n",
    "<p>\n",
    "In addition to showing us the relative performance of the four ETFs this plot shows\n",
    "that we have valid data for the ETF set.\n",
    "</p>"
   ],
   "metadata": {
    "collapsed": false,
    "pycharm": {
     "name": "#%% md\n"
    }
   }
  },
  {
   "cell_type": "code",
   "execution_count": null,
   "outputs": [],
   "source": [
    "percent_ret = percent_return_df(start_date=start_date,\n",
    "                                end_date=end_date,\n",
    "                                prices_df=rotation_etf_close)\n",
    "percent_ret.plot(grid=True, title='Percent return for the ETF Rotation set', figsize=(10,6))\n",
    "\n",
    "\n",
    "etf_rotation_portfolio_df, unused = portfolio_return(holdings=holdings,\n",
    "                                               risk_asset=rotation_etf_shy,\n",
    "                                               bond_asset=cash_trigger_bond_adjclose,\n",
    "                                               spy_data=spy_data,\n",
    "                                               start_date=start_date,\n",
    "                                               end_date=end_date\n",
    "                                               )\n",
    "\n",
    "plot_df = build_plot_data(holdings=holdings,\n",
    "                          portfolio_df=etf_rotation_portfolio_df,\n",
    "                          spy_df=spy_close)"
   ],
   "metadata": {
    "collapsed": false,
    "pycharm": {
     "name": "#%%\n"
    }
   }
  },
  {
   "cell_type": "markdown",
   "source": [
    "<h3>\n",
    "This has to be wrong... (except it's not)\n",
    "</h3>\n",
    "<p>\n",
    "The plot below shows the <i>Cash Trigger</i> strategy combined with the ETF rotation\n",
    "strategy for an investment starting in 2008.\n",
    "</p>"
   ],
   "metadata": {
    "collapsed": false,
    "pycharm": {
     "name": "#%% md\n"
    }
   }
  },
  {
   "cell_type": "code",
   "execution_count": null,
   "outputs": [],
   "source": [
    "ax = plot_df.plot(grid=True,\n",
    "             title='ETF Rotation with Cash Trigger and SPY', figsize=(10,6),\n",
    "             logy=True)\n",
    "ax.set_ylabel(\"Log10\")"
   ],
   "metadata": {
    "collapsed": false,
    "pycharm": {
     "name": "#%%\n"
    }
   }
  },
  {
   "cell_type": "markdown",
   "source": [
    "<p>\n",
    "The ETF rotation strategy combined with the cash trigger beats the S&P 500 by a huge margin.\n",
    "The results are so large that the y-axis is plotted in a log 10 scale.\n",
    "</p>\n",
    "<p>\n",
    "The final values for the cash trigger/ETF rotation portfolio and SPY are shown below.\n",
    "</p>"
   ],
   "metadata": {
    "collapsed": false,
    "pycharm": {
     "name": "#%% md\n"
    }
   }
  },
  {
   "cell_type": "code",
   "execution_count": null,
   "outputs": [],
   "source": [
    "terminal_vals_s = plot_df[:].iloc[-1]\n",
    "terminal_vals_df = pd.DataFrame(terminal_vals_s).transpose()\n",
    "print(tabulate(terminal_vals_df, headers=[*terminal_vals_df.columns], tablefmt='fancy_grid', floatfmt=\".0f\"))"
   ],
   "metadata": {
    "collapsed": false,
    "pycharm": {
     "name": "#%%\n"
    }
   }
  },
  {
   "cell_type": "markdown",
   "source": [
    "<p>\n",
    "The final portfolio value is so large (insane) that my reaction was that there must be an error\n",
    "in the code to calculate the portfolio values.\n",
    "</p>"
   ],
   "metadata": {
    "collapsed": false,
    "pycharm": {
     "name": "#%% md\n"
    }
   }
  },
  {
   "cell_type": "code",
   "execution_count": null,
   "outputs": [],
   "source": [
    "five_year_etf_rotation_portfolio_df, unused = portfolio_return(holdings=holdings,\n",
    "                                               risk_asset=rotation_etf_shy,\n",
    "                                               bond_asset=cash_trigger_bond_adjclose,\n",
    "                                               spy_data=spy_data,\n",
    "                                               start_date=d5_year_start,\n",
    "                                               end_date=end_date\n",
    "                                               )\n",
    "\n",
    "plot_df = build_plot_data(holdings=holdings, portfolio_df=five_year_etf_rotation_portfolio_df, spy_df=spy_close)"
   ],
   "metadata": {
    "collapsed": false,
    "pycharm": {
     "name": "#%%\n"
    }
   }
  },
  {
   "cell_type": "markdown",
   "source": [
    "<p>\n",
    "Basing the analysis of a strategy on an investment that\n",
    "starts in 2008 can be misleading, since the compound return from avoiding the 2008-2009\n",
    "downturn can bias the results.\n",
    "</p>\n",
    "<p>\n",
    "The plot below shows an investment in the past five years.\n",
    "</p>"
   ],
   "metadata": {
    "collapsed": false,
    "pycharm": {
     "name": "#%% md\n"
    }
   }
  },
  {
   "cell_type": "code",
   "execution_count": null,
   "outputs": [],
   "source": [
    "plot_df.plot(grid=True, title=f'ETF Rotation with Cash Trigger, 5-years: {d5_year_start.strftime(\"%m/%d/%Y\")}', figsize=(10,6))\n",
    "\n",
    "one_year_etf_rotation_portfolio_df, one_year_assets = portfolio_return(holdings=holdings,\n",
    "                                                                       risk_asset=rotation_etf_shy,\n",
    "                                                                       bond_asset=cash_trigger_bond_adjclose,\n",
    "                                                                       spy_data=spy_data,\n",
    "                                                                       start_date=d1_year_start,\n",
    "                                                                       end_date=end_date\n",
    "                                                                       )"
   ],
   "metadata": {
    "collapsed": false,
    "pycharm": {
     "name": "#%%\n"
    }
   }
  },
  {
   "cell_type": "markdown",
   "source": [
    "<p>\n",
    "The plot below shows an investment over the past year.\n",
    "</p>"
   ],
   "metadata": {
    "collapsed": false,
    "pycharm": {
     "name": "#%% md\n"
    }
   }
  },
  {
   "cell_type": "code",
   "execution_count": null,
   "outputs": [],
   "source": [
    "plot_df = build_plot_data(holdings=holdings, portfolio_df=one_year_etf_rotation_portfolio_df, spy_df=spy_close)\n",
    "plot_df.plot(grid=True, title=f'ETF Rotation with Cash Trigger, 1-year: {d1_year_start.strftime(\"%m/%d/%Y\")}', figsize=(10,6))"
   ],
   "metadata": {
    "collapsed": false,
    "pycharm": {
     "name": "#%%\n"
    }
   }
  },
  {
   "cell_type": "markdown",
   "source": [
    "<p>\n",
    "The assets over the last one year period are:\n",
    "</p>"
   ],
   "metadata": {
    "collapsed": false,
    "pycharm": {
     "name": "#%% md\n"
    }
   }
  },
  {
   "cell_type": "code",
   "execution_count": null,
   "outputs": [],
   "source": [
    "print(tabulate(one_year_assets, headers=[*one_year_assets.columns], tablefmt='fancy_grid'))"
   ],
   "metadata": {
    "collapsed": false,
    "pycharm": {
     "name": "#%%\n"
    }
   }
  },
  {
   "cell_type": "markdown",
   "source": [
    "<h3>\n",
    "Validating the results\n",
    "</h3>\n",
    "<p>\n",
    "I have been writing software for a long time.  This has taught me that there is always\n",
    "the possibility of errors in the code. Errors can be difficult to find in computatonal\n",
    "finance code since the errors can be subtle.\n",
    "</p>\n",
    "<p>\n",
    "In this section the portfolio return for the ETF rotation/cash trigger code is\n",
    "calculated using another set of functions. This code is designed to mirror\n",
    "the returns that would be realized in actual trading.\n",
    "</p>\n",
    "<p>\n",
    "Up to this point, all of the examples in this notebook use continuously compounded\n",
    "returns. The return for each day is applied to the current portfolio balance. This\n",
    "allows continuous plots to be generated, but it does not mirror how assets would\n",
    "actually be traded in a real portfolio.\n",
    "</p>\n",
    "<p>\n",
    "In a real portfolio the ETF rotation/cash trigger strategy would be used to calculate\n",
    "the asset that would be purchased for the current month. The asset is held until\n",
    "the end of the month, when the asset calculation is repeated. If the calculation results\n",
    "in the same asset, the asset is held through the next month. Otherwise, the asset is\n",
    "sold and a new asset is purchased.\n",
    "</p>\n",
    "<p>\n",
    "If the portfolio backtest results in this section are similar to the results previously\n",
    "calculated then we can have confidence in the previous results. If there is a significant\n",
    "difference then this needs to be investigated.\n",
    "</p>"
   ],
   "metadata": {
    "collapsed": false,
    "pycharm": {
     "name": "#%% md\n"
    }
   }
  },
  {
   "cell_type": "code",
   "execution_count": null,
   "outputs": [],
   "source": [
    "def get_asset_investments(risk_asset: pd.DataFrame,\n",
    "                          bond_asset: pd.DataFrame,\n",
    "                          spy_data: SpyData,\n",
    "                          start_date: datetime,\n",
    "                          end_date: datetime) -> pd.DataFrame:\n",
    "    \"\"\"\n",
    "    :param risk_asset: the risk asset set\n",
    "    :param bond_asset: the bond asset set\n",
    "    :param spy_data:  SpyData object\n",
    "    :param start_date: the start date for the period over which the calculation is performed.\n",
    "    :param end_date: the end date for the period over which the calculation is performed.\n",
    "    :return: a data frame with the columns: asset, start_date, end_date and risk-on.\n",
    "            The asset will be the asset symbol (e.g., 'SPY', 'QQQ', etc)  The\n",
    "            start date will be the start_date on which the asset should be purchased.\n",
    "            The date is an ISO date in string format. The end_date is the date that\n",
    "            the asset should be sold. The risk-on column contains True or False values.\n",
    "            If the value is True, then the period is \"risk-on\".\n",
    "    \"\"\"\n",
    "    name_l: List = []\n",
    "    risk_l: List = []\n",
    "    date_l: List = []\n",
    "    end_date_l: List = []\n",
    "    month_periods = find_month_periods(start_date, end_date, risk_asset)\n",
    "    for index, period in month_periods.iterrows():\n",
    "        start_ix = period['start_ix']\n",
    "        end_ix = period['end_ix']\n",
    "        period_start_date: datetime = convert_date(period['start_date'])\n",
    "        period_end_date: datetime = convert_date(period['end_date'])\n",
    "        date_l.append(period_start_date)\n",
    "        end_date_l.append(period_end_date)\n",
    "        asset_name = ''\n",
    "        if spy_data.risk_state(period_start_date) == RiskState.RISK_ON:\n",
    "            asset_name: str = chooseAssetName(start_ix, end_ix, risk_asset)\n",
    "            risk_on: bool = True\n",
    "        else:  # RISK_OFF - bonds\n",
    "            asset_name: str = chooseAssetName(start_ix, end_ix, bond_asset)\n",
    "            risk_on: bool = False\n",
    "        name_l.append(asset_name)\n",
    "        risk_l.append(risk_on)\n",
    "    asset_df = pd.DataFrame([name_l, date_l, end_date_l, risk_l]).transpose()\n",
    "    asset_df.index = date_l\n",
    "    asset_df.columns = ['asset', 'start_date', 'end_date', 'risk-on']\n",
    "    asset_df = collapse_asset_df(asset_df=asset_df)\n",
    "    return asset_df\n",
    "\n",
    "\n",
    "def investment_return(holdings: float, investment_df: pd.DataFrame, prices_df: pd.DataFrame) -> pd.DataFrame:\n",
    "    \"\"\"\n",
    "    Calculate a portfolio time series using the asset and investment periods in investment_df.\n",
    "    The assets are purchased at the start of th period and sold at the end of the period.\n",
    "    This mirrors how the assets would actually be traded.\n",
    "\n",
    "    :param holdings: the portfolio initial start value (for example, 100000)\n",
    "    :param investment_df: a DataFrame constructed by get_asset_investments\n",
    "    :param prices_df: a data frame containing all of the assets (equity and bond ETFs)\n",
    "    :return: the portfolio time series.\n",
    "    \"\"\"\n",
    "    date_index = prices_df.index\n",
    "    date_l: List = []\n",
    "    prices_l: List = []\n",
    "    balance = holdings\n",
    "    first = True\n",
    "    for ix, row in investment_df.iterrows():\n",
    "        start_date = row['start_date']\n",
    "        end_date = row['end_date']\n",
    "        if first:\n",
    "            prices_l.append(balance)\n",
    "            date_l.append(start_date)\n",
    "            first = False\n",
    "        asset = row['asset']\n",
    "        start_ix = findDateIndex(date_index, start_date)\n",
    "        end_ix = findDateIndex(date_index, end_date)\n",
    "        assert start_ix >= 0 and end_ix >= 0\n",
    "        row_one = prices_df[asset][start_ix:start_ix+1]\n",
    "        row_n = prices_df[asset][end_ix:end_ix+1]\n",
    "        value_n = row_n.values[0]\n",
    "        value_1 = row_one.values[0]\n",
    "        r = (value_n / value_1) -1\n",
    "        # we can only buy whole shares\n",
    "        num_shares = balance // value_1\n",
    "        equity_balance = num_shares * value_1\n",
    "        cash_balance = balance - equity_balance\n",
    "        equity_return = equity_balance + equity_balance * r\n",
    "        balance = equity_return + cash_balance\n",
    "        prices_l.append(balance)\n",
    "        date_l.append(end_date)\n",
    "    portfolio_df = pd.DataFrame(prices_l)\n",
    "    portfolio_df.index = date_l\n",
    "    portfolio_df.columns = ['portfolio']\n",
    "    return portfolio_df\n",
    "\n",
    "all_assets = pd.concat([rotation_etf_close, cash_trigger_bond_adjclose], axis=1)\n",
    "\n",
    "asset_df = get_asset_investments(risk_asset=rotation_etf_shy,\n",
    "                                 bond_asset=cash_trigger_bond_adjclose,\n",
    "                                 spy_data=spy_data,\n",
    "                                 start_date=start_date,\n",
    "                                 end_date=end_date\n",
    "                                 )\n",
    "\n",
    "new_portfolio_df = investment_return(holdings=holdings,\n",
    "                                     investment_df=asset_df,\n",
    "                                     prices_df=all_assets)\n",
    "\n",
    "new_portfolio_adj_df, spy_period_adj = adjust_time_series(new_portfolio_df, spy_close)\n",
    "\n",
    "plot_df = build_plot_data(holdings=holdings, portfolio_df=new_portfolio_adj_df, spy_df=spy_period_adj)"
   ],
   "metadata": {
    "collapsed": false,
    "pycharm": {
     "name": "#%%\n"
    }
   }
  },
  {
   "cell_type": "markdown",
   "source": [
    "<h4>\n",
    "New Portfolio, investment in 2008\n",
    "</h4>\n",
    "<p>\n",
    "The plot below shows the portfolio calculated via period returns, instead of continuously\n",
    "compounded returns.\n",
    "</p>"
   ],
   "metadata": {
    "collapsed": false,
    "pycharm": {
     "name": "#%% md\n"
    }
   }
  },
  {
   "cell_type": "code",
   "execution_count": null,
   "outputs": [],
   "source": [
    "ax = plot_df.plot(grid=True, title='New Portfolio Model (invested in 2008) and SPY', figsize=(10,6), logy=True)\n",
    "ax.set_ylabel('log 10')"
   ],
   "metadata": {
    "collapsed": false,
    "pycharm": {
     "name": "#%%\n"
    }
   }
  },
  {
   "cell_type": "markdown",
   "source": [
    "<p>\n",
    "The final values for the portfolio and SPY are:\n",
    "</p>"
   ],
   "metadata": {
    "collapsed": false,
    "pycharm": {
     "name": "#%% md\n"
    }
   }
  },
  {
   "cell_type": "code",
   "execution_count": null,
   "outputs": [],
   "source": [
    "terminal_vals_s = plot_df[:].iloc[-1]\n",
    "terminal_vals_df = pd.DataFrame(terminal_vals_s).transpose()\n",
    "print(tabulate(terminal_vals_df, headers=[*terminal_vals_df.columns], tablefmt='fancy_grid', floatfmt=\".0f\"))"
   ],
   "metadata": {
    "collapsed": false,
    "pycharm": {
     "name": "#%%\n"
    }
   }
  },
  {
   "cell_type": "markdown",
   "source": [
    "<p>\n",
    "The final portfolio value is smaller by about a factor of four than the continuously\n",
    "compounded returns. The continuously compounded returns are compounded every day, while\n",
    "the returns in the \"new portfolio\" are compounded on every trading period.\n",
    "</p>\n",
    "<p>\n",
    "The final portfolio values in both cases are in the millions.\n",
    "This can be viewed as validating the continuously compounded result, since they are\n",
    "in the same order of magnitude.\n",
    "</p>"
   ],
   "metadata": {
    "collapsed": false,
    "pycharm": {
     "name": "#%% md\n"
    }
   }
  },
  {
   "cell_type": "code",
   "execution_count": null,
   "outputs": [],
   "source": [
    "d10_year_start = end_date - relativedelta(years=10)\n",
    "\n",
    "asset_df = get_asset_investments(risk_asset=rotation_etf_shy,\n",
    "                                 bond_asset=cash_trigger_bond_adjclose,\n",
    "                                 spy_data=spy_data,\n",
    "                                 start_date=d10_year_start,\n",
    "                                 end_date=end_date\n",
    "                                 )\n",
    "\n",
    "new_portfolio_df = investment_return(holdings=holdings,\n",
    "                                     investment_df=asset_df,\n",
    "                                     prices_df=all_assets)\n",
    "\n",
    "new_portfolio_adj_df, spy_period_adj = adjust_time_series(new_portfolio_df, spy_close)\n",
    "\n",
    "plot_df = build_plot_data(holdings=holdings, portfolio_df=new_portfolio_adj_df, spy_df=spy_period_adj)"
   ],
   "metadata": {
    "collapsed": false,
    "pycharm": {
     "name": "#%%\n"
    }
   }
  },
  {
   "cell_type": "markdown",
   "source": [
    "<h3>\n",
    "Past 10-years\n",
    "</h3>"
   ],
   "metadata": {
    "collapsed": false,
    "pycharm": {
     "name": "#%% md\n"
    }
   }
  },
  {
   "cell_type": "code",
   "execution_count": null,
   "outputs": [],
   "source": [
    "plot_df.plot(grid=True, title=f'New Portfolio (ten years) and SPY from {d10_year_start.strftime(\"%m/%d/%Y\")}', figsize=(10,6))"
   ],
   "metadata": {
    "collapsed": false,
    "pycharm": {
     "name": "#%%\n"
    }
   }
  },
  {
   "cell_type": "markdown",
   "source": [
    "<p>\n",
    "Final portfolio values for the ten year investment:\n",
    "</p>"
   ],
   "metadata": {
    "collapsed": false,
    "pycharm": {
     "name": "#%% md\n"
    }
   }
  },
  {
   "cell_type": "code",
   "execution_count": null,
   "outputs": [],
   "source": [
    "terminal_vals_s = plot_df[:].iloc[-1]\n",
    "terminal_vals_df = pd.DataFrame(terminal_vals_s).transpose()\n",
    "print(tabulate(terminal_vals_df, headers=[*terminal_vals_df.columns], tablefmt='fancy_grid', floatfmt=\".0f\"))\n",
    "\n",
    "\n",
    "asset_df = get_asset_investments(risk_asset=rotation_etf_shy,\n",
    "                                 bond_asset=cash_trigger_bond_adjclose,\n",
    "                                 spy_data=spy_data,\n",
    "                                 start_date=d5_year_start,\n",
    "                                 end_date=end_date\n",
    "                                 )\n",
    "\n",
    "new_portfolio_df = investment_return(holdings=holdings,\n",
    "                                     investment_df=asset_df,\n",
    "                                     prices_df=all_assets)\n",
    "\n",
    "new_portfolio_adj_df, spy_period_adj = adjust_time_series(new_portfolio_df, spy_close)\n",
    "\n",
    "plot_df = build_plot_data(holdings=holdings, portfolio_df=new_portfolio_adj_df, spy_df=spy_period_adj)"
   ],
   "metadata": {
    "collapsed": false,
    "pycharm": {
     "name": "#%%\n"
    }
   }
  },
  {
   "cell_type": "markdown",
   "source": [
    "<h3>\n",
    "Past 5-years\n",
    "</h3>"
   ],
   "metadata": {
    "collapsed": false,
    "pycharm": {
     "name": "#%% md\n"
    }
   }
  },
  {
   "cell_type": "code",
   "execution_count": null,
   "outputs": [],
   "source": [
    "plot_df.plot(grid=True, title=f'New Portfolio and SPY from {d5_year_start.strftime(\"%m/%d/%Y\")}', figsize=(10,6))"
   ],
   "metadata": {
    "collapsed": false,
    "pycharm": {
     "name": "#%%\n"
    }
   }
  },
  {
   "cell_type": "markdown",
   "source": [
    "<p>\n",
    "Final portfolio values for the five year investment:\n",
    "</p>"
   ],
   "metadata": {
    "collapsed": false,
    "pycharm": {
     "name": "#%% md\n"
    }
   }
  },
  {
   "cell_type": "code",
   "execution_count": null,
   "outputs": [],
   "source": [
    "terminal_vals_s = plot_df[:].iloc[-1]\n",
    "terminal_vals_df = pd.DataFrame(terminal_vals_s).transpose()\n",
    "print(tabulate(terminal_vals_df, headers=[*terminal_vals_df.columns], tablefmt='fancy_grid', floatfmt=\".0f\"))\n",
    "\n",
    "\n",
    "asset_df = get_asset_investments(risk_asset=rotation_etf_shy,\n",
    "                                 bond_asset=cash_trigger_bond_adjclose,\n",
    "                                 spy_data=spy_data,\n",
    "                                 start_date=d3_year_start,\n",
    "                                 end_date=end_date\n",
    "                                 )\n",
    "\n",
    "new_portfolio_df = investment_return(holdings=holdings,\n",
    "                                     investment_df=asset_df,\n",
    "                                     prices_df=all_assets)\n",
    "\n",
    "new_portfolio_adj_df, spy_period_adj = adjust_time_series(new_portfolio_df, spy_close)\n",
    "\n",
    "plot_df = build_plot_data(holdings=holdings, portfolio_df=new_portfolio_adj_df, spy_df=spy_period_adj)"
   ],
   "metadata": {
    "collapsed": false,
    "pycharm": {
     "name": "#%%\n"
    }
   }
  },
  {
   "cell_type": "markdown",
   "source": [
    "<h3>\n",
    "Past 3-years\n",
    "</h3>"
   ],
   "metadata": {
    "collapsed": false,
    "pycharm": {
     "name": "#%% md\n"
    }
   }
  },
  {
   "cell_type": "code",
   "execution_count": null,
   "outputs": [],
   "source": [
    "plot_df.plot(grid=True, title=f'New Portfolio (three years) and SPY from {d3_year_start.strftime(\"%m/%d/%Y\")}', figsize=(10,6))"
   ],
   "metadata": {
    "collapsed": false,
    "pycharm": {
     "name": "#%%\n"
    }
   }
  },
  {
   "cell_type": "markdown",
   "source": [
    "<p>\n",
    "Final portfolio values for the three year investment:\n",
    "</p>"
   ],
   "metadata": {
    "collapsed": false,
    "pycharm": {
     "name": "#%% md\n"
    }
   }
  },
  {
   "cell_type": "code",
   "execution_count": null,
   "outputs": [],
   "source": [
    "terminal_vals_s = plot_df[:].iloc[-1]\n",
    "terminal_vals_df = pd.DataFrame(terminal_vals_s).transpose()\n",
    "print(tabulate(terminal_vals_df, headers=[*terminal_vals_df.columns], tablefmt='fancy_grid', floatfmt=\".0f\"))\n",
    "\n",
    "\n",
    "asset_df = get_asset_investments(risk_asset=rotation_etf_shy,\n",
    "                                 bond_asset=cash_trigger_bond_adjclose,\n",
    "                                 spy_data=spy_data,\n",
    "                                 start_date=d1_year_start,\n",
    "                                 end_date=end_date\n",
    "                                 )\n",
    "\n",
    "new_portfolio_df = investment_return(holdings=holdings,\n",
    "                                     investment_df=asset_df,\n",
    "                                     prices_df=all_assets)\n",
    "\n",
    "new_portfolio_adj_df, spy_period_adj = adjust_time_series(new_portfolio_df, spy_close)\n",
    "\n",
    "plot_df = build_plot_data(holdings=holdings, portfolio_df=new_portfolio_adj_df, spy_df=spy_period_adj)"
   ],
   "metadata": {
    "collapsed": false,
    "pycharm": {
     "name": "#%%\n"
    }
   }
  },
  {
   "cell_type": "markdown",
   "source": [
    "<h3>\n",
    "Past Year\n",
    "</h3>"
   ],
   "metadata": {
    "collapsed": false,
    "pycharm": {
     "name": "#%% md\n"
    }
   }
  },
  {
   "cell_type": "code",
   "execution_count": null,
   "outputs": [],
   "source": [
    "plot_df.plot(grid=True, title=f'New Portfolio (one year) and SPY from {d1_year_start.strftime(\"%m/%d/%Y\")}', figsize=(10,6))"
   ],
   "metadata": {
    "collapsed": false,
    "pycharm": {
     "name": "#%%\n"
    }
   }
  },
  {
   "cell_type": "markdown",
   "source": [
    "<p>\n",
    "Final portfolio values for the one year investment:\n",
    "</p>"
   ],
   "metadata": {
    "collapsed": false,
    "pycharm": {
     "name": "#%% md\n"
    }
   }
  },
  {
   "cell_type": "code",
   "execution_count": null,
   "outputs": [],
   "source": [
    "terminal_vals_s = plot_df[:].iloc[-1]\n",
    "terminal_vals_df = pd.DataFrame(terminal_vals_s).transpose()\n",
    "print(tabulate(terminal_vals_df, headers=[*terminal_vals_df.columns], tablefmt='fancy_grid', floatfmt=\".0f\"))\n",
    "\n",
    "d2022_date_str = '2022-01-03'\n",
    "d2022_start_date: datetime = datetime.fromisoformat(d2022_date_str)\n",
    "\n",
    "asset_df = get_asset_investments(risk_asset=rotation_etf_shy,\n",
    "                                 bond_asset=cash_trigger_bond_adjclose,\n",
    "                                 spy_data=spy_data,\n",
    "                                 start_date=d2022_start_date,\n",
    "                                 end_date=end_date\n",
    "                                 )\n",
    "\n",
    "new_portfolio_df = investment_return(holdings=holdings,\n",
    "                                     investment_df=asset_df,\n",
    "                                     prices_df=all_assets)\n",
    "\n",
    "new_portfolio_adj_df, spy_period_adj = adjust_time_series(new_portfolio_df, spy_close)\n",
    "\n",
    "plot_df = build_plot_data(holdings=holdings, portfolio_df=new_portfolio_adj_df, spy_df=spy_period_adj)"
   ],
   "metadata": {
    "collapsed": false,
    "pycharm": {
     "name": "#%%\n"
    }
   }
  },
  {
   "cell_type": "markdown",
   "source": [
    "<h3>\n",
    "Portfolio in 2022\n",
    "</h3>\n",
    "<p>\n",
    "This section shows the portfolio performance for an investment made on the first\n",
    "trading day of 2022.\n",
    "</p>"
   ],
   "metadata": {
    "collapsed": false,
    "pycharm": {
     "name": "#%% md\n"
    }
   }
  },
  {
   "cell_type": "code",
   "execution_count": null,
   "outputs": [],
   "source": [
    "plot_df.plot(grid=True, title=f'New Portfolio (2022) and SPY from {d2022_start_date.strftime(\"%m/%d/%Y\")}', figsize=(10,6))"
   ],
   "metadata": {
    "collapsed": false,
    "pycharm": {
     "name": "#%%\n"
    }
   }
  },
  {
   "cell_type": "markdown",
   "source": [
    "<p>\n",
    "Final portfolio values for the 2022 investment is:\n",
    "</p>"
   ],
   "metadata": {
    "collapsed": false,
    "pycharm": {
     "name": "#%% md\n"
    }
   }
  },
  {
   "cell_type": "code",
   "execution_count": null,
   "outputs": [],
   "source": [
    "terminal_vals_s = plot_df[:].iloc[-1]\n",
    "terminal_vals_df = pd.DataFrame(terminal_vals_s).transpose()\n",
    "print(tabulate(terminal_vals_df, headers=[*terminal_vals_df.columns], tablefmt='fancy_grid', floatfmt=\".0f\"))"
   ],
   "metadata": {
    "collapsed": false,
    "pycharm": {
     "name": "#%%\n"
    }
   }
  },
  {
   "cell_type": "markdown",
   "source": [
    "<p>\n",
    "The assets that were purchased by the strategy for 2022 (to date) are:\n",
    "</p>"
   ],
   "metadata": {
    "collapsed": false,
    "pycharm": {
     "name": "#%% md\n"
    }
   }
  },
  {
   "cell_type": "code",
   "execution_count": null,
   "outputs": [],
   "source": [
    "print(tabulate(asset_df, headers=[*asset_df.columns], tablefmt='fancy_grid'))\n"
   ],
   "metadata": {
    "collapsed": false,
    "pycharm": {
     "name": "#%%\n"
    }
   }
  },
  {
   "cell_type": "markdown",
   "source": [
    "<h3>\n",
    "ETF Rotation/Cash Trigger Portfolio: Discussion\n",
    "</h3>\n",
    "<p>\n",
    "The future is unknown. The only way we can evaluate an investment strategy is by looking\n",
    "at how it would have performed in the past. This strategy works well when the future\n",
    "is similar to the past.\n",
    "</p>\n",
    "<p>\n",
    "From 2008 to 2021 western governments have pumped money into their economies (through\n",
    "the so-called \"quantitative easing\") to avoid\n",
    "serious recessions caused by either the 2008-2009 \"Great Recession\" or the 2020 COVID-19\n",
    "market crash.\n",
    "</p>\n",
    "<p>\n",
    "This changed around 2020. With global supply chains under pressure from COVID-19 disruptions\n",
    "and Russia's unprovoked invasion of Ukraine on February 24, 2022 causing a large increase\n",
    "in energy prices. Inflation rose to levels that had not been seen in decades. The western central\n",
    "banks backed away from monetary expansion and started raising interest rates. The stock\n",
    "market and the economy entered a new regime. This regime appears to be different from\n",
    "the historial period from 2008 to 2020.\n",
    "</p>\n",
    "<p>\n",
    "The 2020-2021 COVID-19 period reminded the observer that the\n",
    "stock market is not the economy, so it is difficult to fully understand how the new\n",
    "regime will unfold.\n",
    "</p>\n",
    "<p>\n",
    "For the year to date in 2022, the ETF rotation/cash trigger strategy performed better\n",
    "than SPY, but is still slightly negtative (as of May 2022). An investment in dividend stocks\n",
    "(see <a href=\"https://github.com/IanLKaplan/all_weather_portfolio/blob/master/dividend_portfolio.ipynb\">\n",
    "Dividend Portfolios</a>) or dividend ETFs (Schwab's SCHP, for example) would have performed\n",
    "better in 2022.\n",
    "</p>"
   ],
   "metadata": {
    "collapsed": false,
    "pycharm": {
     "name": "#%% md\n"
    }
   }
  },
  {
   "cell_type": "markdown",
   "source": [
    "<h2>\n",
    "Disclaimer\n",
    "</h2>\n",
    "<p>\n",
    "This notebook is not financial advice, investment advice, or tax advice.\n",
    "The information in this notebook is for informational and recreational purposes only.\n",
    "Investment products discussed (ETFs, mutual funds, etc.) are for illustrative purposes\n",
    "only. This is not a recommendation to buy, sell, or otherwise transact in any of the\n",
    "products mentioned. Do your own due diligence. Past performance does not guarantee\n",
    "future returns.\n",
    "</p>"
   ],
   "metadata": {
    "collapsed": false,
    "pycharm": {
     "name": "#%% md\n"
    }
   }
  },
  {
   "cell_type": "code",
   "execution_count": 106,
   "outputs": [
    {
     "name": "stdout",
     "output_type": "stream",
     "text": [
      "╒═════════════════════╤═════════╤═════════════════════╤═════════════════════╤═══════════╕\n",
      "│                     │ asset   │ start_date          │ end_date            │ risk-on   │\n",
      "╞═════════════════════╪═════════╪═════════════════════╪═════════════════════╪═══════════╡\n",
      "│ 2022-01-03 00:00:00 │ SHY     │ 2022-01-03 00:00:00 │ 2022-01-31 00:00:00 │ True      │\n",
      "├─────────────────────┼─────────┼─────────────────────┼─────────────────────┼───────────┤\n",
      "│ 2022-02-01 00:00:00 │ MDY     │ 2022-02-01 00:00:00 │ 2022-02-28 00:00:00 │ True      │\n",
      "├─────────────────────┼─────────┼─────────────────────┼─────────────────────┼───────────┤\n",
      "│ 2022-03-01 00:00:00 │ JNK     │ 2022-03-01 00:00:00 │ 2022-03-31 00:00:00 │ False     │\n",
      "├─────────────────────┼─────────┼─────────────────────┼─────────────────────┼───────────┤\n",
      "│ 2022-04-01 00:00:00 │ SHY     │ 2022-04-01 00:00:00 │ 2022-04-29 00:00:00 │ True      │\n",
      "╘═════════════════════╧═════════╧═════════════════════╧═════════════════════╧═══════════╛\n"
     ]
    }
   ],
   "source": [
    "print(tabulate(asset_df, headers=[*asset_df.columns], tablefmt='fancy_grid'))\n"
   ],
   "metadata": {
    "collapsed": false,
    "pycharm": {
     "name": "#%%\n"
    }
   }
  },
  {
   "cell_type": "markdown",
   "source": [
    "<h3>\n",
    "ETF Rotation/Cash Trigger Portfolio: Discussion\n",
    "</h3>\n",
    "<p>\n",
    "The future is unknown. The only way we can evaluate an investment strategy is by looking\n",
    "at how it would have performed in the past. This strategy works well when the future\n",
    "is similar to the past.\n",
    "\n",
    "</p>\n",
    "<p>\n",
    "From 2008 to 2021 Western governments have pumped money into their economies (through\n",
    "the so-called \"quantitative easing\") to avoid\n",
    "serious recessions caused by either the 2008-2009 \"Great Recession\" or the 2020 COVID-19\n",
    "market crash.\n",
    "</p>\n",
    "<p>\n",
    "This changed around 2020. With global supply chains under pressure from COVID-19 disruptions\n",
    "and Russia's unprovoked invasion of Ukraine on February 24, 2022 causing a large increase\n",
    "in energy prices. Inflation rose to levels that had not been seen in decades. The western central\n",
    "banks backed away from monetary expansion and started raising interest rates. The stock\n",
    "market and the economy entered a new regime. This regime appears to be different from\n",
    "the historial period from 2008 to 2020.\n",
    "</p>\n",
    "<p>\n",
    "The 2020-2021 COVID-19 period reminded the observer that the\n",
    "stock market is not the economy, so it is difficult to fully understand how the new\n",
    "regime will unfold.\n",
    "</p>\n",
    "<p>\n",
    "For the year to date in 2022, the ETF rotation/cash trigger strategy performed better\n",
    "than SPY, but is still slightly negtative (as of May 2022). An investment in dividend stocks\n",
    "(see <a href=\"https://github.com/IanLKaplan/all_weather_portfolio/blob/master/dividend_portfolio.ipynb\">\n",
    "Dividend Portfolios</a>) or dividend ETFs (Schwab's SCHP, for example) would have performed\n",
    "better in 2022.\n",
    "</p>\n",
    "<h3>\n",
    "Can we do better\n",
    "</h3>\n",
    "<p>\n",
    "The cash trigger/etf rotation portfolio performance has been very good until 2022. In this section we investigate\n",
    "whether there is an asset mix that will do better in the current time period while also doing well in previous\n",
    "time periods.\n",
    "</p>\n",
    "<p>\n",
    "ETFs from trendlineprofits.com American Muscle strategy\n",
    "</p>\n",
    "<h4>\n",
    "Broad Market ETFs\n",
    "</h4>\n",
    "<ul>\n",
    "<li>\n",
    "MDY - SPDR S&P MidCap 400 ETF (described above)\n",
    "</li>\n",
    "<li>\n",
    "QQQ - PowerShares Nasdaq-100 Investment Trust (ETF) (described above)\n",
    "</li>\n",
    "<li>\n",
    "<p>\n",
    "MTUM - iShares Momentum Factor ETF\n",
    "</p>\n",
    "<p>\n",
    "Inception date: Apr 16, 2013\n",
    "</p>\n",
    "</li>\n",
    "</ul>\n",
    "<h4>\n",
    "Sector ETFs\n",
    "</h4>\n",
    "<ul>\n",
    "<li>\n",
    "<p>\n",
    "VCR - Vanguard U.S. Consumer Discretionary ETF\n",
    "</p>\n",
    "<p>\n",
    "Inception date:\n",
    "</p>\n",
    "</li>\n",
    "<li>\n",
    "VFH - Vanguard U.S. Financials ETF\n",
    "</li>\n",
    "<li>\n",
    "VGT - Vanguard U.S. Information Technology ETF\n",
    "</li>\n",
    "<li>\n",
    "VHT - Vanguard U.S. Health Care ETF\n",
    "</li>\n",
    "<h4>\n",
    "Bond ETFs\n",
    "</h4>\n",
    "<ul>\n",
    "<li>\n",
    "TLH - iShares 10 Year U.S. Treasury Bond ETF\n",
    "</li>\n",
    "<li>\n",
    "TLT - iShares 20+ Year U.S. Treasury Bond ETF\n",
    "</li>\n",
    "<li>\n",
    "SHY\n",
    "</li>\n",
    "</ul>"
   ],
   "metadata": {
    "collapsed": false,
    "pycharm": {
     "name": "#%% md\n"
    }
   }
  },
  {
   "cell_type": "markdown",
   "source": [
    "<h2>\n",
    "Disclaimer\n",
    "</h2>\n",
    "<p>\n",
    "This notebook is not financial advice, investment advice, or tax advice.\n",
    "The information in this notebook is for informational and recreational purposes only.\n",
    "Investment products discussed (ETFs, mutual funds, etc.) are for illustrative purposes\n",
    "only. This is not a recommendation to buy, sell, or otherwise transact in any of the\n",
    "products mentioned. Do your own due diligence. Past performance does not guarantee\n",
    "future returns.\n",
    "</p>"
   ],
   "metadata": {
    "collapsed": false,
    "pycharm": {
     "name": "#%% md\n"
    }
   }
  }
 ],
 "metadata": {
  "kernelspec": {
   "display_name": "Python 3 (ipykernel)",
   "language": "python",
   "name": "python3"
  },
  "language_info": {
   "codemirror_mode": {
    "name": "ipython",
    "version": 3
   },
   "file_extension": ".py",
   "mimetype": "text/x-python",
   "name": "python",
   "nbconvert_exporter": "python",
   "pygments_lexer": "ipython3",
   "version": "3.9.9"
  }
 },
 "nbformat": 4,
 "nbformat_minor": 1
}