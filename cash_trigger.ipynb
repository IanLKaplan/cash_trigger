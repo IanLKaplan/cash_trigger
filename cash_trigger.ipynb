{
 "cells": [
  {
   "cell_type": "markdown",
   "metadata": {
    "collapsed": true,
    "pycharm": {
     "name": "#%% md\n"
    }
   },
   "source": [
    "<h2>\n",
    "Stock Market Cash Trigger</br>\n",
    "by Ian Kaplan</br>\n",
    "</h2>\n",
    "\n",
    "<p>\n",
    "This notebook explores a stock market timing strategy that is described in David\n",
    "Alan Carter's book <i>Stock Market Cash Trigger</i>.\n",
    "</p>\n",
    "<p>\n",
    "In the <i>Stock Market Cash Trigger</i> the 200-day moving average for the S&P 500\n",
    "ETF SPY close prices is compared with the current close SPY price. When the\n",
    "close prices for SPY trends below the 200-day moving average, this is a\n",
    "signal to move out of equity instruments into bond instruments.\n",
    "</p>\n",
    "<p>\n",
    "The definition of \"trending below\" the 200-day moving average is when, on the last\n",
    "day of a month, the current price is below the 200-day average.\n",
    "</p>\n",
    "<p>\n",
    "If bonds are selected, one of three bonds (JNK, TLT or MUB) is chosen.  The\n",
    "bond chosen is the bond with the highest three month past return (this is\n",
    "the ETF rotation technique that is explored at length in\n",
    "<a href=\"https://github.com/IanLKaplan/twelve_percent/blob/master/twelve_percent.ipynb\"><i>The 12% Solution</i></a>)\n",
    "</p>\n",
    "<p>\n",
    "The ETF instruments used in this notebook are the same instruments\n",
    "used in the book <i>Stock Market Cash Trigger</i>\n",
    "</p>\n",
    "<h3>\n",
    "S&P 500 ETF\n",
    "</h3>\n",
    "<ul>\n",
    "<li>\n",
    "<p>\n",
    "SPY: SPDR S&P 500 ETF Trust\n",
    "</p>\n",
    "<p>\n",
    "SPY tracks a market-cap-weighted index of US large- and midcap stocks selected by\n",
    "the S&P Committee (e.g., S&P 500).\n",
    "</p>\n",
    "<p>\n",
    "Inception date: Jan 22, 1993\n",
    "</p>\n",
    "</li>\n",
    "</ul>\n",
    "\n",
    "<h3>\n",
    "Bond ETFs\n",
    "</h3>\n",
    "<ul>\n",
    "<li>\n",
    "<p>\n",
    "TLT: iShares 20+ Year Treasury Bond ETF\n",
    "</p>\n",
    "<p>\n",
    "TLT tracks a market-weighted index of debt issued by the US Treasury\n",
    "with remaining maturities of 20 years or more.\n",
    "</p>\n",
    "<p>\n",
    "Inception date: 7/22/2002\n",
    "</p>\n",
    "</li>\n",
    "<li>\n",
    "<p>\n",
    "JNK: SPDR Bloomberg High Yield Bond ETF\n",
    "</p>\n",
    "<p>\n",
    "JNK tracks a market-weighted index of highly liquid, high-yield, US\n",
    "dollar-denominated corporate bonds.\n",
    "</p>\n",
    "<p>\n",
    "Inception date: 11/28/2007\n",
    "</p>\n",
    "</li>\n",
    "<li>\n",
    "<p>\n",
    "MUB: iShares National Muni Bond ETF\n",
    "</p>\n",
    "<p>\n",
    "MUB tracks a market-weighted index of investment-grade debt issued by state\n",
    "and local governments and agencies. Interest is exempt from US income tax\n",
    "and from AMT.\n",
    "</p>\n",
    "<p>\n",
    "Inception date: 09/09/2007\n",
    "</p>\n",
    "</li>\n",
    "</ul>"
   ]
  },
  {
   "cell_type": "code",
   "execution_count": null,
   "outputs": [],
   "source": [
    "from datetime import datetime, timedelta\n",
    "from numpy import sqrt\n",
    "from tabulate import tabulate\n",
    "from typing import List, Tuple\n",
    "from pandas_datareader import data\n",
    "import matplotlib.pyplot as plt\n",
    "import pandas as pd\n",
    "from pandas.core.indexes.datetimes import DatetimeIndex\n",
    "from dateutil.relativedelta import relativedelta\n",
    "import numpy as np\n",
    "from pathlib import Path\n",
    "import tempfile"
   ],
   "metadata": {
    "collapsed": false,
    "pycharm": {
     "name": "#%%\n"
    }
   }
  },
  {
   "cell_type": "markdown",
   "source": [
    "<h2>\n",
    "Disclaimer\n",
    "</h2>\n",
    "<p>\n",
    "This notebook is not financial advice, investment advice, or tax advice.\n",
    "The information in this notebook is for informational and recreational purposes only.\n",
    "Investment products discussed (ETFs, mutual funds, etc.) are for illustrative purposes\n",
    "only. This is not a recommendation to buy, sell, or otherwise transact in any of the\n",
    "products mentioned. Do your own due diligence. Past performance does not guarantee\n",
    "future returns.\n",
    "</p>"
   ],
   "metadata": {
    "collapsed": false,
    "pycharm": {
     "name": "#%% md\n"
    }
   }
  }
 ],
 "metadata": {
  "kernelspec": {
   "display_name": "Python 3",
   "language": "python",
   "name": "python3"
  },
  "language_info": {
   "codemirror_mode": {
    "name": "ipython",
    "version": 2
   },
   "file_extension": ".py",
   "mimetype": "text/x-python",
   "name": "python",
   "nbconvert_exporter": "python",
   "pygments_lexer": "ipython2",
   "version": "2.7.6"
  }
 },
 "nbformat": 4,
 "nbformat_minor": 0
}